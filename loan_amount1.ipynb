{
 "cells": [
  {
   "cell_type": "code",
   "execution_count": 1,
   "metadata": {},
   "outputs": [],
   "source": [
    "import numpy as np\n",
    "import matplotlib.pyplot as plt\n",
    "import pandas as pd"
   ]
  },
  {
   "cell_type": "markdown",
   "metadata": {},
   "source": [
    "Импортируем необходимые библиотеки и присваиваем им сокращенные названия."
   ]
  },
  {
   "cell_type": "code",
   "execution_count": 2,
   "metadata": {},
   "outputs": [],
   "source": [
    "df = pd.read_csv('dataa.csv', sep=',')"
   ]
  },
  {
   "cell_type": "markdown",
   "metadata": {},
   "source": [
    "Импортируем файл с данными используя библиотеку пандас."
   ]
  },
  {
   "cell_type": "code",
   "execution_count": 3,
   "metadata": {},
   "outputs": [
    {
     "data": {
      "text/html": [
       "<div>\n",
       "<style scoped>\n",
       "    .dataframe tbody tr th:only-of-type {\n",
       "        vertical-align: middle;\n",
       "    }\n",
       "\n",
       "    .dataframe tbody tr th {\n",
       "        vertical-align: top;\n",
       "    }\n",
       "\n",
       "    .dataframe thead th {\n",
       "        text-align: right;\n",
       "    }\n",
       "</style>\n",
       "<table border=\"1\" class=\"dataframe\">\n",
       "  <thead>\n",
       "    <tr style=\"text-align: right;\">\n",
       "      <th></th>\n",
       "      <th>Gender</th>\n",
       "      <th>Married</th>\n",
       "      <th>Dependents</th>\n",
       "      <th>Education</th>\n",
       "      <th>Self_Employed</th>\n",
       "      <th>ApplicantIncome</th>\n",
       "      <th>CoapplicantIncome</th>\n",
       "      <th>Loan_Amount_Term</th>\n",
       "      <th>Credit_History</th>\n",
       "      <th>LoanAmount</th>\n",
       "    </tr>\n",
       "  </thead>\n",
       "  <tbody>\n",
       "    <tr>\n",
       "      <th>0</th>\n",
       "      <td>Male</td>\n",
       "      <td>No</td>\n",
       "      <td>0.0</td>\n",
       "      <td>Graduate</td>\n",
       "      <td>No</td>\n",
       "      <td>5849</td>\n",
       "      <td>0.0</td>\n",
       "      <td>360.0</td>\n",
       "      <td>1.0</td>\n",
       "      <td>NaN</td>\n",
       "    </tr>\n",
       "    <tr>\n",
       "      <th>1</th>\n",
       "      <td>Male</td>\n",
       "      <td>Yes</td>\n",
       "      <td>1.0</td>\n",
       "      <td>Graduate</td>\n",
       "      <td>No</td>\n",
       "      <td>4583</td>\n",
       "      <td>1508.0</td>\n",
       "      <td>360.0</td>\n",
       "      <td>1.0</td>\n",
       "      <td>128.0</td>\n",
       "    </tr>\n",
       "    <tr>\n",
       "      <th>2</th>\n",
       "      <td>Male</td>\n",
       "      <td>Yes</td>\n",
       "      <td>0.0</td>\n",
       "      <td>Graduate</td>\n",
       "      <td>Yes</td>\n",
       "      <td>3000</td>\n",
       "      <td>0.0</td>\n",
       "      <td>360.0</td>\n",
       "      <td>1.0</td>\n",
       "      <td>66.0</td>\n",
       "    </tr>\n",
       "    <tr>\n",
       "      <th>3</th>\n",
       "      <td>Male</td>\n",
       "      <td>Yes</td>\n",
       "      <td>0.0</td>\n",
       "      <td>Not Graduate</td>\n",
       "      <td>No</td>\n",
       "      <td>2583</td>\n",
       "      <td>2358.0</td>\n",
       "      <td>360.0</td>\n",
       "      <td>1.0</td>\n",
       "      <td>120.0</td>\n",
       "    </tr>\n",
       "    <tr>\n",
       "      <th>4</th>\n",
       "      <td>Male</td>\n",
       "      <td>No</td>\n",
       "      <td>0.0</td>\n",
       "      <td>Graduate</td>\n",
       "      <td>No</td>\n",
       "      <td>6000</td>\n",
       "      <td>0.0</td>\n",
       "      <td>360.0</td>\n",
       "      <td>1.0</td>\n",
       "      <td>141.0</td>\n",
       "    </tr>\n",
       "    <tr>\n",
       "      <th>...</th>\n",
       "      <td>...</td>\n",
       "      <td>...</td>\n",
       "      <td>...</td>\n",
       "      <td>...</td>\n",
       "      <td>...</td>\n",
       "      <td>...</td>\n",
       "      <td>...</td>\n",
       "      <td>...</td>\n",
       "      <td>...</td>\n",
       "      <td>...</td>\n",
       "    </tr>\n",
       "    <tr>\n",
       "      <th>609</th>\n",
       "      <td>Female</td>\n",
       "      <td>No</td>\n",
       "      <td>0.0</td>\n",
       "      <td>Graduate</td>\n",
       "      <td>No</td>\n",
       "      <td>2900</td>\n",
       "      <td>0.0</td>\n",
       "      <td>360.0</td>\n",
       "      <td>1.0</td>\n",
       "      <td>71.0</td>\n",
       "    </tr>\n",
       "    <tr>\n",
       "      <th>610</th>\n",
       "      <td>Male</td>\n",
       "      <td>Yes</td>\n",
       "      <td>3.0</td>\n",
       "      <td>Graduate</td>\n",
       "      <td>No</td>\n",
       "      <td>4106</td>\n",
       "      <td>0.0</td>\n",
       "      <td>180.0</td>\n",
       "      <td>1.0</td>\n",
       "      <td>40.0</td>\n",
       "    </tr>\n",
       "    <tr>\n",
       "      <th>611</th>\n",
       "      <td>Male</td>\n",
       "      <td>Yes</td>\n",
       "      <td>1.0</td>\n",
       "      <td>Graduate</td>\n",
       "      <td>No</td>\n",
       "      <td>8072</td>\n",
       "      <td>240.0</td>\n",
       "      <td>360.0</td>\n",
       "      <td>1.0</td>\n",
       "      <td>253.0</td>\n",
       "    </tr>\n",
       "    <tr>\n",
       "      <th>612</th>\n",
       "      <td>Male</td>\n",
       "      <td>Yes</td>\n",
       "      <td>2.0</td>\n",
       "      <td>Graduate</td>\n",
       "      <td>No</td>\n",
       "      <td>7583</td>\n",
       "      <td>0.0</td>\n",
       "      <td>360.0</td>\n",
       "      <td>1.0</td>\n",
       "      <td>187.0</td>\n",
       "    </tr>\n",
       "    <tr>\n",
       "      <th>613</th>\n",
       "      <td>Female</td>\n",
       "      <td>No</td>\n",
       "      <td>0.0</td>\n",
       "      <td>Graduate</td>\n",
       "      <td>Yes</td>\n",
       "      <td>4583</td>\n",
       "      <td>0.0</td>\n",
       "      <td>360.0</td>\n",
       "      <td>0.0</td>\n",
       "      <td>133.0</td>\n",
       "    </tr>\n",
       "  </tbody>\n",
       "</table>\n",
       "<p>614 rows × 10 columns</p>\n",
       "</div>"
      ],
      "text/plain": [
       "     Gender Married  Dependents     Education Self_Employed  ApplicantIncome  \\\n",
       "0      Male      No         0.0      Graduate            No             5849   \n",
       "1      Male     Yes         1.0      Graduate            No             4583   \n",
       "2      Male     Yes         0.0      Graduate           Yes             3000   \n",
       "3      Male     Yes         0.0  Not Graduate            No             2583   \n",
       "4      Male      No         0.0      Graduate            No             6000   \n",
       "..      ...     ...         ...           ...           ...              ...   \n",
       "609  Female      No         0.0      Graduate            No             2900   \n",
       "610    Male     Yes         3.0      Graduate            No             4106   \n",
       "611    Male     Yes         1.0      Graduate            No             8072   \n",
       "612    Male     Yes         2.0      Graduate            No             7583   \n",
       "613  Female      No         0.0      Graduate           Yes             4583   \n",
       "\n",
       "     CoapplicantIncome  Loan_Amount_Term  Credit_History  LoanAmount  \n",
       "0                  0.0             360.0             1.0         NaN  \n",
       "1               1508.0             360.0             1.0       128.0  \n",
       "2                  0.0             360.0             1.0        66.0  \n",
       "3               2358.0             360.0             1.0       120.0  \n",
       "4                  0.0             360.0             1.0       141.0  \n",
       "..                 ...               ...             ...         ...  \n",
       "609                0.0             360.0             1.0        71.0  \n",
       "610                0.0             180.0             1.0        40.0  \n",
       "611              240.0             360.0             1.0       253.0  \n",
       "612                0.0             360.0             1.0       187.0  \n",
       "613                0.0             360.0             0.0       133.0  \n",
       "\n",
       "[614 rows x 10 columns]"
      ]
     },
     "execution_count": 3,
     "metadata": {},
     "output_type": "execute_result"
    }
   ],
   "source": [
    "df"
   ]
  },
  {
   "cell_type": "markdown",
   "metadata": {},
   "source": [
    "Для построения модели прогнозирования суммы кредита были использованы такие факторы как пол, семейное положение, количество детей, образование, вид занятости, доход, того кто берет кредит, доход co-applicant (со-заявителя), срок погашения, кредитная итсория. Количество наблюдений 614, количество факторов 9, из них 5 количественные, 4 качественные."
   ]
  },
  {
   "cell_type": "code",
   "execution_count": 4,
   "metadata": {},
   "outputs": [
    {
     "data": {
      "text/html": [
       "<div>\n",
       "<style scoped>\n",
       "    .dataframe tbody tr th:only-of-type {\n",
       "        vertical-align: middle;\n",
       "    }\n",
       "\n",
       "    .dataframe tbody tr th {\n",
       "        vertical-align: top;\n",
       "    }\n",
       "\n",
       "    .dataframe thead th {\n",
       "        text-align: right;\n",
       "    }\n",
       "</style>\n",
       "<table border=\"1\" class=\"dataframe\">\n",
       "  <thead>\n",
       "    <tr style=\"text-align: right;\">\n",
       "      <th></th>\n",
       "      <th>Dependents</th>\n",
       "      <th>ApplicantIncome</th>\n",
       "      <th>CoapplicantIncome</th>\n",
       "      <th>Loan_Amount_Term</th>\n",
       "      <th>Credit_History</th>\n",
       "      <th>LoanAmount</th>\n",
       "    </tr>\n",
       "  </thead>\n",
       "  <tbody>\n",
       "    <tr>\n",
       "      <th>count</th>\n",
       "      <td>599.000000</td>\n",
       "      <td>614.000000</td>\n",
       "      <td>614.000000</td>\n",
       "      <td>600.00000</td>\n",
       "      <td>564.000000</td>\n",
       "      <td>592.000000</td>\n",
       "    </tr>\n",
       "    <tr>\n",
       "      <th>mean</th>\n",
       "      <td>0.762938</td>\n",
       "      <td>5403.459283</td>\n",
       "      <td>1621.245798</td>\n",
       "      <td>342.00000</td>\n",
       "      <td>0.842199</td>\n",
       "      <td>146.412162</td>\n",
       "    </tr>\n",
       "    <tr>\n",
       "      <th>std</th>\n",
       "      <td>1.015216</td>\n",
       "      <td>6109.041673</td>\n",
       "      <td>2926.248369</td>\n",
       "      <td>65.12041</td>\n",
       "      <td>0.364878</td>\n",
       "      <td>85.587325</td>\n",
       "    </tr>\n",
       "    <tr>\n",
       "      <th>min</th>\n",
       "      <td>0.000000</td>\n",
       "      <td>150.000000</td>\n",
       "      <td>0.000000</td>\n",
       "      <td>12.00000</td>\n",
       "      <td>0.000000</td>\n",
       "      <td>9.000000</td>\n",
       "    </tr>\n",
       "    <tr>\n",
       "      <th>25%</th>\n",
       "      <td>0.000000</td>\n",
       "      <td>2877.500000</td>\n",
       "      <td>0.000000</td>\n",
       "      <td>360.00000</td>\n",
       "      <td>1.000000</td>\n",
       "      <td>100.000000</td>\n",
       "    </tr>\n",
       "    <tr>\n",
       "      <th>50%</th>\n",
       "      <td>0.000000</td>\n",
       "      <td>3812.500000</td>\n",
       "      <td>1188.500000</td>\n",
       "      <td>360.00000</td>\n",
       "      <td>1.000000</td>\n",
       "      <td>128.000000</td>\n",
       "    </tr>\n",
       "    <tr>\n",
       "      <th>75%</th>\n",
       "      <td>2.000000</td>\n",
       "      <td>5795.000000</td>\n",
       "      <td>2297.250000</td>\n",
       "      <td>360.00000</td>\n",
       "      <td>1.000000</td>\n",
       "      <td>168.000000</td>\n",
       "    </tr>\n",
       "    <tr>\n",
       "      <th>max</th>\n",
       "      <td>3.000000</td>\n",
       "      <td>81000.000000</td>\n",
       "      <td>41667.000000</td>\n",
       "      <td>480.00000</td>\n",
       "      <td>1.000000</td>\n",
       "      <td>700.000000</td>\n",
       "    </tr>\n",
       "  </tbody>\n",
       "</table>\n",
       "</div>"
      ],
      "text/plain": [
       "       Dependents  ApplicantIncome  CoapplicantIncome  Loan_Amount_Term  \\\n",
       "count  599.000000       614.000000         614.000000         600.00000   \n",
       "mean     0.762938      5403.459283        1621.245798         342.00000   \n",
       "std      1.015216      6109.041673        2926.248369          65.12041   \n",
       "min      0.000000       150.000000           0.000000          12.00000   \n",
       "25%      0.000000      2877.500000           0.000000         360.00000   \n",
       "50%      0.000000      3812.500000        1188.500000         360.00000   \n",
       "75%      2.000000      5795.000000        2297.250000         360.00000   \n",
       "max      3.000000     81000.000000       41667.000000         480.00000   \n",
       "\n",
       "       Credit_History  LoanAmount  \n",
       "count      564.000000  592.000000  \n",
       "mean         0.842199  146.412162  \n",
       "std          0.364878   85.587325  \n",
       "min          0.000000    9.000000  \n",
       "25%          1.000000  100.000000  \n",
       "50%          1.000000  128.000000  \n",
       "75%          1.000000  168.000000  \n",
       "max          1.000000  700.000000  "
      ]
     },
     "execution_count": 4,
     "metadata": {},
     "output_type": "execute_result"
    }
   ],
   "source": [
    "df.describe()"
   ]
  },
  {
   "cell_type": "markdown",
   "metadata": {},
   "source": [
    "Описываем основные статистики наших данных. Можем видеть среднее значение по каждой переменной, стандартное отклонение, минимум, максимум и сколько попадает в 25%, 50% и 75%."
   ]
  },
  {
   "cell_type": "code",
   "execution_count": 5,
   "metadata": {},
   "outputs": [
    {
     "data": {
      "text/html": [
       "<div>\n",
       "<style scoped>\n",
       "    .dataframe tbody tr th:only-of-type {\n",
       "        vertical-align: middle;\n",
       "    }\n",
       "\n",
       "    .dataframe tbody tr th {\n",
       "        vertical-align: top;\n",
       "    }\n",
       "\n",
       "    .dataframe thead th {\n",
       "        text-align: right;\n",
       "    }\n",
       "</style>\n",
       "<table border=\"1\" class=\"dataframe\">\n",
       "  <thead>\n",
       "    <tr style=\"text-align: right;\">\n",
       "      <th></th>\n",
       "      <th>Total</th>\n",
       "      <th>Percent</th>\n",
       "    </tr>\n",
       "  </thead>\n",
       "  <tbody>\n",
       "    <tr>\n",
       "      <th>Credit_History</th>\n",
       "      <td>50</td>\n",
       "      <td>0.081433</td>\n",
       "    </tr>\n",
       "    <tr>\n",
       "      <th>Self_Employed</th>\n",
       "      <td>32</td>\n",
       "      <td>0.052117</td>\n",
       "    </tr>\n",
       "    <tr>\n",
       "      <th>LoanAmount</th>\n",
       "      <td>22</td>\n",
       "      <td>0.035831</td>\n",
       "    </tr>\n",
       "    <tr>\n",
       "      <th>Dependents</th>\n",
       "      <td>15</td>\n",
       "      <td>0.024430</td>\n",
       "    </tr>\n",
       "    <tr>\n",
       "      <th>Loan_Amount_Term</th>\n",
       "      <td>14</td>\n",
       "      <td>0.022801</td>\n",
       "    </tr>\n",
       "    <tr>\n",
       "      <th>Gender</th>\n",
       "      <td>13</td>\n",
       "      <td>0.021173</td>\n",
       "    </tr>\n",
       "    <tr>\n",
       "      <th>Married</th>\n",
       "      <td>3</td>\n",
       "      <td>0.004886</td>\n",
       "    </tr>\n",
       "    <tr>\n",
       "      <th>CoapplicantIncome</th>\n",
       "      <td>0</td>\n",
       "      <td>0.000000</td>\n",
       "    </tr>\n",
       "    <tr>\n",
       "      <th>ApplicantIncome</th>\n",
       "      <td>0</td>\n",
       "      <td>0.000000</td>\n",
       "    </tr>\n",
       "    <tr>\n",
       "      <th>Education</th>\n",
       "      <td>0</td>\n",
       "      <td>0.000000</td>\n",
       "    </tr>\n",
       "  </tbody>\n",
       "</table>\n",
       "</div>"
      ],
      "text/plain": [
       "                   Total   Percent\n",
       "Credit_History        50  0.081433\n",
       "Self_Employed         32  0.052117\n",
       "LoanAmount            22  0.035831\n",
       "Dependents            15  0.024430\n",
       "Loan_Amount_Term      14  0.022801\n",
       "Gender                13  0.021173\n",
       "Married                3  0.004886\n",
       "CoapplicantIncome      0  0.000000\n",
       "ApplicantIncome        0  0.000000\n",
       "Education              0  0.000000"
      ]
     },
     "execution_count": 5,
     "metadata": {},
     "output_type": "execute_result"
    }
   ],
   "source": [
    "total = df.isnull().sum().sort_values(ascending=False)\n",
    "percent = (df.isnull().sum()/df.isnull().count()).sort_values(ascending=False)\n",
    "missing_data = pd.concat([total, percent], axis=1, keys=['Total', 'Percent'])\n",
    "missing_data"
   ]
  },
  {
   "cell_type": "markdown",
   "metadata": {},
   "source": [
    "Проверяем наличие пропусков, они присутствуют."
   ]
  },
  {
   "cell_type": "code",
   "execution_count": 6,
   "metadata": {},
   "outputs": [],
   "source": [
    "def fill_missing_num(x):\n",
    "    num_var = list(x._get_numeric_data().columns)\n",
    "    for col_names in num_var:        \n",
    "        prep_med = SimpleImputer(missing_values=np.nan, strategy='mean')\n",
    "        prep_med.fit(x[num_var])\n",
    "        x[num_var] = prep_med.transform(x[num_var]).round()\n",
    "    return(x)"
   ]
  },
  {
   "cell_type": "markdown",
   "metadata": {},
   "source": [
    "Избавляемся от пропусков в колиственных переменных используя стратегию замены на среднее значение и окргуляем значения."
   ]
  },
  {
   "cell_type": "code",
   "execution_count": 7,
   "metadata": {},
   "outputs": [],
   "source": [
    "def fill_missing_char(x):\n",
    "    char_var = list(set(x.columns) - set(x._get_numeric_data().columns))\n",
    "    for col_names in char_var:        \n",
    "        prep_fr = SimpleImputer(missing_values=np.nan, strategy='most_frequent')\n",
    "        prep_fr.fit(x[char_var])\n",
    "        x[char_var] = prep_fr.transform(x[char_var])\n",
    "    return(x)"
   ]
  },
  {
   "cell_type": "markdown",
   "metadata": {},
   "source": [
    "Избавляемся от пропусков в качественных переменных используя стратегию замены на наиболее часто встречаемое значение."
   ]
  },
  {
   "cell_type": "code",
   "execution_count": 8,
   "metadata": {},
   "outputs": [],
   "source": [
    "from sklearn.impute import SimpleImputer\n",
    "df = fill_missing_num(df)\n",
    "df = fill_missing_char(df)"
   ]
  },
  {
   "cell_type": "code",
   "execution_count": 9,
   "metadata": {},
   "outputs": [
    {
     "data": {
      "text/html": [
       "<div>\n",
       "<style scoped>\n",
       "    .dataframe tbody tr th:only-of-type {\n",
       "        vertical-align: middle;\n",
       "    }\n",
       "\n",
       "    .dataframe tbody tr th {\n",
       "        vertical-align: top;\n",
       "    }\n",
       "\n",
       "    .dataframe thead th {\n",
       "        text-align: right;\n",
       "    }\n",
       "</style>\n",
       "<table border=\"1\" class=\"dataframe\">\n",
       "  <thead>\n",
       "    <tr style=\"text-align: right;\">\n",
       "      <th></th>\n",
       "      <th>Total</th>\n",
       "      <th>Percent</th>\n",
       "    </tr>\n",
       "  </thead>\n",
       "  <tbody>\n",
       "    <tr>\n",
       "      <th>LoanAmount</th>\n",
       "      <td>0</td>\n",
       "      <td>0.0</td>\n",
       "    </tr>\n",
       "    <tr>\n",
       "      <th>Credit_History</th>\n",
       "      <td>0</td>\n",
       "      <td>0.0</td>\n",
       "    </tr>\n",
       "    <tr>\n",
       "      <th>Loan_Amount_Term</th>\n",
       "      <td>0</td>\n",
       "      <td>0.0</td>\n",
       "    </tr>\n",
       "    <tr>\n",
       "      <th>CoapplicantIncome</th>\n",
       "      <td>0</td>\n",
       "      <td>0.0</td>\n",
       "    </tr>\n",
       "    <tr>\n",
       "      <th>ApplicantIncome</th>\n",
       "      <td>0</td>\n",
       "      <td>0.0</td>\n",
       "    </tr>\n",
       "    <tr>\n",
       "      <th>Self_Employed</th>\n",
       "      <td>0</td>\n",
       "      <td>0.0</td>\n",
       "    </tr>\n",
       "    <tr>\n",
       "      <th>Education</th>\n",
       "      <td>0</td>\n",
       "      <td>0.0</td>\n",
       "    </tr>\n",
       "    <tr>\n",
       "      <th>Dependents</th>\n",
       "      <td>0</td>\n",
       "      <td>0.0</td>\n",
       "    </tr>\n",
       "    <tr>\n",
       "      <th>Married</th>\n",
       "      <td>0</td>\n",
       "      <td>0.0</td>\n",
       "    </tr>\n",
       "    <tr>\n",
       "      <th>Gender</th>\n",
       "      <td>0</td>\n",
       "      <td>0.0</td>\n",
       "    </tr>\n",
       "  </tbody>\n",
       "</table>\n",
       "</div>"
      ],
      "text/plain": [
       "                   Total  Percent\n",
       "LoanAmount             0      0.0\n",
       "Credit_History         0      0.0\n",
       "Loan_Amount_Term       0      0.0\n",
       "CoapplicantIncome      0      0.0\n",
       "ApplicantIncome        0      0.0\n",
       "Self_Employed          0      0.0\n",
       "Education              0      0.0\n",
       "Dependents             0      0.0\n",
       "Married                0      0.0\n",
       "Gender                 0      0.0"
      ]
     },
     "execution_count": 9,
     "metadata": {},
     "output_type": "execute_result"
    }
   ],
   "source": [
    "total = df.isnull().sum().sort_values(ascending=False)\n",
    "percent = (df.isnull().sum()/df.isnull().count()).sort_values(ascending=False)\n",
    "missing_data = pd.concat([total, percent], axis=1, keys=['Total', 'Percent'])\n",
    "missing_data"
   ]
  },
  {
   "cell_type": "markdown",
   "metadata": {},
   "source": [
    "Делаем повторную проверку на наличие пропусков, убеждаемся что их нет."
   ]
  },
  {
   "cell_type": "code",
   "execution_count": 10,
   "metadata": {},
   "outputs": [
    {
     "data": {
      "text/html": [
       "<div>\n",
       "<style scoped>\n",
       "    .dataframe tbody tr th:only-of-type {\n",
       "        vertical-align: middle;\n",
       "    }\n",
       "\n",
       "    .dataframe tbody tr th {\n",
       "        vertical-align: top;\n",
       "    }\n",
       "\n",
       "    .dataframe thead th {\n",
       "        text-align: right;\n",
       "    }\n",
       "</style>\n",
       "<table border=\"1\" class=\"dataframe\">\n",
       "  <thead>\n",
       "    <tr style=\"text-align: right;\">\n",
       "      <th></th>\n",
       "      <th>Gender</th>\n",
       "      <th>Married</th>\n",
       "      <th>Dependents</th>\n",
       "      <th>Education</th>\n",
       "      <th>Self_Employed</th>\n",
       "      <th>ApplicantIncome</th>\n",
       "      <th>CoapplicantIncome</th>\n",
       "      <th>Loan_Amount_Term</th>\n",
       "      <th>Credit_History</th>\n",
       "      <th>LoanAmount</th>\n",
       "    </tr>\n",
       "  </thead>\n",
       "  <tbody>\n",
       "    <tr>\n",
       "      <th>0</th>\n",
       "      <td>Male</td>\n",
       "      <td>No</td>\n",
       "      <td>0.0</td>\n",
       "      <td>Graduate</td>\n",
       "      <td>No</td>\n",
       "      <td>5849.0</td>\n",
       "      <td>0.0</td>\n",
       "      <td>360.0</td>\n",
       "      <td>1.0</td>\n",
       "      <td>146.0</td>\n",
       "    </tr>\n",
       "    <tr>\n",
       "      <th>1</th>\n",
       "      <td>Male</td>\n",
       "      <td>Yes</td>\n",
       "      <td>1.0</td>\n",
       "      <td>Graduate</td>\n",
       "      <td>No</td>\n",
       "      <td>4583.0</td>\n",
       "      <td>1508.0</td>\n",
       "      <td>360.0</td>\n",
       "      <td>1.0</td>\n",
       "      <td>128.0</td>\n",
       "    </tr>\n",
       "    <tr>\n",
       "      <th>2</th>\n",
       "      <td>Male</td>\n",
       "      <td>Yes</td>\n",
       "      <td>0.0</td>\n",
       "      <td>Graduate</td>\n",
       "      <td>Yes</td>\n",
       "      <td>3000.0</td>\n",
       "      <td>0.0</td>\n",
       "      <td>360.0</td>\n",
       "      <td>1.0</td>\n",
       "      <td>66.0</td>\n",
       "    </tr>\n",
       "    <tr>\n",
       "      <th>3</th>\n",
       "      <td>Male</td>\n",
       "      <td>Yes</td>\n",
       "      <td>0.0</td>\n",
       "      <td>Not Graduate</td>\n",
       "      <td>No</td>\n",
       "      <td>2583.0</td>\n",
       "      <td>2358.0</td>\n",
       "      <td>360.0</td>\n",
       "      <td>1.0</td>\n",
       "      <td>120.0</td>\n",
       "    </tr>\n",
       "    <tr>\n",
       "      <th>4</th>\n",
       "      <td>Male</td>\n",
       "      <td>No</td>\n",
       "      <td>0.0</td>\n",
       "      <td>Graduate</td>\n",
       "      <td>No</td>\n",
       "      <td>6000.0</td>\n",
       "      <td>0.0</td>\n",
       "      <td>360.0</td>\n",
       "      <td>1.0</td>\n",
       "      <td>141.0</td>\n",
       "    </tr>\n",
       "    <tr>\n",
       "      <th>...</th>\n",
       "      <td>...</td>\n",
       "      <td>...</td>\n",
       "      <td>...</td>\n",
       "      <td>...</td>\n",
       "      <td>...</td>\n",
       "      <td>...</td>\n",
       "      <td>...</td>\n",
       "      <td>...</td>\n",
       "      <td>...</td>\n",
       "      <td>...</td>\n",
       "    </tr>\n",
       "    <tr>\n",
       "      <th>609</th>\n",
       "      <td>Female</td>\n",
       "      <td>No</td>\n",
       "      <td>0.0</td>\n",
       "      <td>Graduate</td>\n",
       "      <td>No</td>\n",
       "      <td>2900.0</td>\n",
       "      <td>0.0</td>\n",
       "      <td>360.0</td>\n",
       "      <td>1.0</td>\n",
       "      <td>71.0</td>\n",
       "    </tr>\n",
       "    <tr>\n",
       "      <th>610</th>\n",
       "      <td>Male</td>\n",
       "      <td>Yes</td>\n",
       "      <td>3.0</td>\n",
       "      <td>Graduate</td>\n",
       "      <td>No</td>\n",
       "      <td>4106.0</td>\n",
       "      <td>0.0</td>\n",
       "      <td>180.0</td>\n",
       "      <td>1.0</td>\n",
       "      <td>40.0</td>\n",
       "    </tr>\n",
       "    <tr>\n",
       "      <th>611</th>\n",
       "      <td>Male</td>\n",
       "      <td>Yes</td>\n",
       "      <td>1.0</td>\n",
       "      <td>Graduate</td>\n",
       "      <td>No</td>\n",
       "      <td>8072.0</td>\n",
       "      <td>240.0</td>\n",
       "      <td>360.0</td>\n",
       "      <td>1.0</td>\n",
       "      <td>253.0</td>\n",
       "    </tr>\n",
       "    <tr>\n",
       "      <th>612</th>\n",
       "      <td>Male</td>\n",
       "      <td>Yes</td>\n",
       "      <td>2.0</td>\n",
       "      <td>Graduate</td>\n",
       "      <td>No</td>\n",
       "      <td>7583.0</td>\n",
       "      <td>0.0</td>\n",
       "      <td>360.0</td>\n",
       "      <td>1.0</td>\n",
       "      <td>187.0</td>\n",
       "    </tr>\n",
       "    <tr>\n",
       "      <th>613</th>\n",
       "      <td>Female</td>\n",
       "      <td>No</td>\n",
       "      <td>0.0</td>\n",
       "      <td>Graduate</td>\n",
       "      <td>Yes</td>\n",
       "      <td>4583.0</td>\n",
       "      <td>0.0</td>\n",
       "      <td>360.0</td>\n",
       "      <td>0.0</td>\n",
       "      <td>133.0</td>\n",
       "    </tr>\n",
       "  </tbody>\n",
       "</table>\n",
       "<p>614 rows × 10 columns</p>\n",
       "</div>"
      ],
      "text/plain": [
       "     Gender Married  Dependents     Education Self_Employed  ApplicantIncome  \\\n",
       "0      Male      No         0.0      Graduate            No           5849.0   \n",
       "1      Male     Yes         1.0      Graduate            No           4583.0   \n",
       "2      Male     Yes         0.0      Graduate           Yes           3000.0   \n",
       "3      Male     Yes         0.0  Not Graduate            No           2583.0   \n",
       "4      Male      No         0.0      Graduate            No           6000.0   \n",
       "..      ...     ...         ...           ...           ...              ...   \n",
       "609  Female      No         0.0      Graduate            No           2900.0   \n",
       "610    Male     Yes         3.0      Graduate            No           4106.0   \n",
       "611    Male     Yes         1.0      Graduate            No           8072.0   \n",
       "612    Male     Yes         2.0      Graduate            No           7583.0   \n",
       "613  Female      No         0.0      Graduate           Yes           4583.0   \n",
       "\n",
       "     CoapplicantIncome  Loan_Amount_Term  Credit_History  LoanAmount  \n",
       "0                  0.0             360.0             1.0       146.0  \n",
       "1               1508.0             360.0             1.0       128.0  \n",
       "2                  0.0             360.0             1.0        66.0  \n",
       "3               2358.0             360.0             1.0       120.0  \n",
       "4                  0.0             360.0             1.0       141.0  \n",
       "..                 ...               ...             ...         ...  \n",
       "609                0.0             360.0             1.0        71.0  \n",
       "610                0.0             180.0             1.0        40.0  \n",
       "611              240.0             360.0             1.0       253.0  \n",
       "612                0.0             360.0             1.0       187.0  \n",
       "613                0.0             360.0             0.0       133.0  \n",
       "\n",
       "[614 rows x 10 columns]"
      ]
     },
     "execution_count": 10,
     "metadata": {},
     "output_type": "execute_result"
    }
   ],
   "source": [
    "df"
   ]
  },
  {
   "cell_type": "code",
   "execution_count": 11,
   "metadata": {},
   "outputs": [],
   "source": [
    "def outliers(df):\n",
    "    num_var = list(df._get_numeric_data().columns)\n",
    "    for col_names in num_var:\n",
    "        df[col_names] = df[col_names].apply(lambda y: df[col_names].mean()-3*df[col_names].std() \n",
    "                            if y < df[col_names].mean()-3*df[col_names].std() else y)\n",
    "        df[col_names] = df[col_names].apply(lambda y: df[col_names].mean()+3*df[col_names].std() \n",
    "                            if y > df[col_names].mean()+3*df[col_names].std() else y)\n",
    "    return(df)"
   ]
  },
  {
   "cell_type": "markdown",
   "metadata": {},
   "source": [
    "Обрабатываем выбросы с помощью цикла for и условного ветвления if."
   ]
  },
  {
   "cell_type": "code",
   "execution_count": 12,
   "metadata": {},
   "outputs": [
    {
     "data": {
      "text/html": [
       "<div>\n",
       "<style scoped>\n",
       "    .dataframe tbody tr th:only-of-type {\n",
       "        vertical-align: middle;\n",
       "    }\n",
       "\n",
       "    .dataframe tbody tr th {\n",
       "        vertical-align: top;\n",
       "    }\n",
       "\n",
       "    .dataframe thead th {\n",
       "        text-align: right;\n",
       "    }\n",
       "</style>\n",
       "<table border=\"1\" class=\"dataframe\">\n",
       "  <thead>\n",
       "    <tr style=\"text-align: right;\">\n",
       "      <th></th>\n",
       "      <th>Dependents</th>\n",
       "      <th>ApplicantIncome</th>\n",
       "      <th>CoapplicantIncome</th>\n",
       "      <th>Loan_Amount_Term</th>\n",
       "      <th>Credit_History</th>\n",
       "      <th>LoanAmount</th>\n",
       "    </tr>\n",
       "  </thead>\n",
       "  <tbody>\n",
       "    <tr>\n",
       "      <th>count</th>\n",
       "      <td>614.000000</td>\n",
       "      <td>614.000000</td>\n",
       "      <td>614.000000</td>\n",
       "      <td>614.000000</td>\n",
       "      <td>614.000000</td>\n",
       "      <td>614.000000</td>\n",
       "    </tr>\n",
       "    <tr>\n",
       "      <th>mean</th>\n",
       "      <td>0.768730</td>\n",
       "      <td>5109.046701</td>\n",
       "      <td>1498.490141</td>\n",
       "      <td>343.443958</td>\n",
       "      <td>0.855049</td>\n",
       "      <td>143.458711</td>\n",
       "    </tr>\n",
       "    <tr>\n",
       "      <th>std</th>\n",
       "      <td>1.003387</td>\n",
       "      <td>3990.938759</td>\n",
       "      <td>1896.208655</td>\n",
       "      <td>58.767716</td>\n",
       "      <td>0.352339</td>\n",
       "      <td>71.004026</td>\n",
       "    </tr>\n",
       "    <tr>\n",
       "      <th>min</th>\n",
       "      <td>0.000000</td>\n",
       "      <td>150.000000</td>\n",
       "      <td>0.000000</td>\n",
       "      <td>148.882534</td>\n",
       "      <td>0.000000</td>\n",
       "      <td>9.000000</td>\n",
       "    </tr>\n",
       "    <tr>\n",
       "      <th>25%</th>\n",
       "      <td>0.000000</td>\n",
       "      <td>2877.500000</td>\n",
       "      <td>0.000000</td>\n",
       "      <td>360.000000</td>\n",
       "      <td>1.000000</td>\n",
       "      <td>100.250000</td>\n",
       "    </tr>\n",
       "    <tr>\n",
       "      <th>50%</th>\n",
       "      <td>0.000000</td>\n",
       "      <td>3812.500000</td>\n",
       "      <td>1188.500000</td>\n",
       "      <td>360.000000</td>\n",
       "      <td>1.000000</td>\n",
       "      <td>129.000000</td>\n",
       "    </tr>\n",
       "    <tr>\n",
       "      <th>75%</th>\n",
       "      <td>1.000000</td>\n",
       "      <td>5795.000000</td>\n",
       "      <td>2297.250000</td>\n",
       "      <td>360.000000</td>\n",
       "      <td>1.000000</td>\n",
       "      <td>164.750000</td>\n",
       "    </tr>\n",
       "    <tr>\n",
       "      <th>max</th>\n",
       "      <td>3.000000</td>\n",
       "      <td>23730.584304</td>\n",
       "      <td>10399.991146</td>\n",
       "      <td>480.000000</td>\n",
       "      <td>1.000000</td>\n",
       "      <td>398.509902</td>\n",
       "    </tr>\n",
       "  </tbody>\n",
       "</table>\n",
       "</div>"
      ],
      "text/plain": [
       "       Dependents  ApplicantIncome  CoapplicantIncome  Loan_Amount_Term  \\\n",
       "count  614.000000       614.000000         614.000000        614.000000   \n",
       "mean     0.768730      5109.046701        1498.490141        343.443958   \n",
       "std      1.003387      3990.938759        1896.208655         58.767716   \n",
       "min      0.000000       150.000000           0.000000        148.882534   \n",
       "25%      0.000000      2877.500000           0.000000        360.000000   \n",
       "50%      0.000000      3812.500000        1188.500000        360.000000   \n",
       "75%      1.000000      5795.000000        2297.250000        360.000000   \n",
       "max      3.000000     23730.584304       10399.991146        480.000000   \n",
       "\n",
       "       Credit_History  LoanAmount  \n",
       "count      614.000000  614.000000  \n",
       "mean         0.855049  143.458711  \n",
       "std          0.352339   71.004026  \n",
       "min          0.000000    9.000000  \n",
       "25%          1.000000  100.250000  \n",
       "50%          1.000000  129.000000  \n",
       "75%          1.000000  164.750000  \n",
       "max          1.000000  398.509902  "
      ]
     },
     "execution_count": 12,
     "metadata": {},
     "output_type": "execute_result"
    }
   ],
   "source": [
    "df = outliers(df)\n",
    "df.describe()"
   ]
  },
  {
   "cell_type": "code",
   "execution_count": 13,
   "metadata": {},
   "outputs": [
    {
     "data": {
      "text/html": [
       "<div>\n",
       "<style scoped>\n",
       "    .dataframe tbody tr th:only-of-type {\n",
       "        vertical-align: middle;\n",
       "    }\n",
       "\n",
       "    .dataframe tbody tr th {\n",
       "        vertical-align: top;\n",
       "    }\n",
       "\n",
       "    .dataframe thead th {\n",
       "        text-align: right;\n",
       "    }\n",
       "</style>\n",
       "<table border=\"1\" class=\"dataframe\">\n",
       "  <thead>\n",
       "    <tr style=\"text-align: right;\">\n",
       "      <th></th>\n",
       "      <th>Gender</th>\n",
       "      <th>Married</th>\n",
       "      <th>Dependents</th>\n",
       "      <th>Education</th>\n",
       "      <th>Self_Employed</th>\n",
       "      <th>ApplicantIncome</th>\n",
       "      <th>CoapplicantIncome</th>\n",
       "      <th>Loan_Amount_Term</th>\n",
       "      <th>Credit_History</th>\n",
       "      <th>LoanAmount</th>\n",
       "    </tr>\n",
       "  </thead>\n",
       "  <tbody>\n",
       "    <tr>\n",
       "      <th>0</th>\n",
       "      <td>Male</td>\n",
       "      <td>No</td>\n",
       "      <td>0.0</td>\n",
       "      <td>Graduate</td>\n",
       "      <td>No</td>\n",
       "      <td>5849.0</td>\n",
       "      <td>0.0</td>\n",
       "      <td>360.0</td>\n",
       "      <td>1.0</td>\n",
       "      <td>146.0</td>\n",
       "    </tr>\n",
       "    <tr>\n",
       "      <th>1</th>\n",
       "      <td>Male</td>\n",
       "      <td>Yes</td>\n",
       "      <td>1.0</td>\n",
       "      <td>Graduate</td>\n",
       "      <td>No</td>\n",
       "      <td>4583.0</td>\n",
       "      <td>1508.0</td>\n",
       "      <td>360.0</td>\n",
       "      <td>1.0</td>\n",
       "      <td>128.0</td>\n",
       "    </tr>\n",
       "    <tr>\n",
       "      <th>2</th>\n",
       "      <td>Male</td>\n",
       "      <td>Yes</td>\n",
       "      <td>0.0</td>\n",
       "      <td>Graduate</td>\n",
       "      <td>Yes</td>\n",
       "      <td>3000.0</td>\n",
       "      <td>0.0</td>\n",
       "      <td>360.0</td>\n",
       "      <td>1.0</td>\n",
       "      <td>66.0</td>\n",
       "    </tr>\n",
       "    <tr>\n",
       "      <th>3</th>\n",
       "      <td>Male</td>\n",
       "      <td>Yes</td>\n",
       "      <td>0.0</td>\n",
       "      <td>Not Graduate</td>\n",
       "      <td>No</td>\n",
       "      <td>2583.0</td>\n",
       "      <td>2358.0</td>\n",
       "      <td>360.0</td>\n",
       "      <td>1.0</td>\n",
       "      <td>120.0</td>\n",
       "    </tr>\n",
       "    <tr>\n",
       "      <th>4</th>\n",
       "      <td>Male</td>\n",
       "      <td>No</td>\n",
       "      <td>0.0</td>\n",
       "      <td>Graduate</td>\n",
       "      <td>No</td>\n",
       "      <td>6000.0</td>\n",
       "      <td>0.0</td>\n",
       "      <td>360.0</td>\n",
       "      <td>1.0</td>\n",
       "      <td>141.0</td>\n",
       "    </tr>\n",
       "    <tr>\n",
       "      <th>...</th>\n",
       "      <td>...</td>\n",
       "      <td>...</td>\n",
       "      <td>...</td>\n",
       "      <td>...</td>\n",
       "      <td>...</td>\n",
       "      <td>...</td>\n",
       "      <td>...</td>\n",
       "      <td>...</td>\n",
       "      <td>...</td>\n",
       "      <td>...</td>\n",
       "    </tr>\n",
       "    <tr>\n",
       "      <th>609</th>\n",
       "      <td>Female</td>\n",
       "      <td>No</td>\n",
       "      <td>0.0</td>\n",
       "      <td>Graduate</td>\n",
       "      <td>No</td>\n",
       "      <td>2900.0</td>\n",
       "      <td>0.0</td>\n",
       "      <td>360.0</td>\n",
       "      <td>1.0</td>\n",
       "      <td>71.0</td>\n",
       "    </tr>\n",
       "    <tr>\n",
       "      <th>610</th>\n",
       "      <td>Male</td>\n",
       "      <td>Yes</td>\n",
       "      <td>3.0</td>\n",
       "      <td>Graduate</td>\n",
       "      <td>No</td>\n",
       "      <td>4106.0</td>\n",
       "      <td>0.0</td>\n",
       "      <td>180.0</td>\n",
       "      <td>1.0</td>\n",
       "      <td>40.0</td>\n",
       "    </tr>\n",
       "    <tr>\n",
       "      <th>611</th>\n",
       "      <td>Male</td>\n",
       "      <td>Yes</td>\n",
       "      <td>1.0</td>\n",
       "      <td>Graduate</td>\n",
       "      <td>No</td>\n",
       "      <td>8072.0</td>\n",
       "      <td>240.0</td>\n",
       "      <td>360.0</td>\n",
       "      <td>1.0</td>\n",
       "      <td>253.0</td>\n",
       "    </tr>\n",
       "    <tr>\n",
       "      <th>612</th>\n",
       "      <td>Male</td>\n",
       "      <td>Yes</td>\n",
       "      <td>2.0</td>\n",
       "      <td>Graduate</td>\n",
       "      <td>No</td>\n",
       "      <td>7583.0</td>\n",
       "      <td>0.0</td>\n",
       "      <td>360.0</td>\n",
       "      <td>1.0</td>\n",
       "      <td>187.0</td>\n",
       "    </tr>\n",
       "    <tr>\n",
       "      <th>613</th>\n",
       "      <td>Female</td>\n",
       "      <td>No</td>\n",
       "      <td>0.0</td>\n",
       "      <td>Graduate</td>\n",
       "      <td>Yes</td>\n",
       "      <td>4583.0</td>\n",
       "      <td>0.0</td>\n",
       "      <td>360.0</td>\n",
       "      <td>0.0</td>\n",
       "      <td>133.0</td>\n",
       "    </tr>\n",
       "  </tbody>\n",
       "</table>\n",
       "<p>614 rows × 10 columns</p>\n",
       "</div>"
      ],
      "text/plain": [
       "     Gender Married  Dependents     Education Self_Employed  ApplicantIncome  \\\n",
       "0      Male      No         0.0      Graduate            No           5849.0   \n",
       "1      Male     Yes         1.0      Graduate            No           4583.0   \n",
       "2      Male     Yes         0.0      Graduate           Yes           3000.0   \n",
       "3      Male     Yes         0.0  Not Graduate            No           2583.0   \n",
       "4      Male      No         0.0      Graduate            No           6000.0   \n",
       "..      ...     ...         ...           ...           ...              ...   \n",
       "609  Female      No         0.0      Graduate            No           2900.0   \n",
       "610    Male     Yes         3.0      Graduate            No           4106.0   \n",
       "611    Male     Yes         1.0      Graduate            No           8072.0   \n",
       "612    Male     Yes         2.0      Graduate            No           7583.0   \n",
       "613  Female      No         0.0      Graduate           Yes           4583.0   \n",
       "\n",
       "     CoapplicantIncome  Loan_Amount_Term  Credit_History  LoanAmount  \n",
       "0                  0.0             360.0             1.0       146.0  \n",
       "1               1508.0             360.0             1.0       128.0  \n",
       "2                  0.0             360.0             1.0        66.0  \n",
       "3               2358.0             360.0             1.0       120.0  \n",
       "4                  0.0             360.0             1.0       141.0  \n",
       "..                 ...               ...             ...         ...  \n",
       "609                0.0             360.0             1.0        71.0  \n",
       "610                0.0             180.0             1.0        40.0  \n",
       "611              240.0             360.0             1.0       253.0  \n",
       "612                0.0             360.0             1.0       187.0  \n",
       "613                0.0             360.0             0.0       133.0  \n",
       "\n",
       "[614 rows x 10 columns]"
      ]
     },
     "execution_count": 13,
     "metadata": {},
     "output_type": "execute_result"
    }
   ],
   "source": [
    "df"
   ]
  },
  {
   "cell_type": "code",
   "execution_count": 14,
   "metadata": {},
   "outputs": [],
   "source": [
    "def encoding_char(x):\n",
    "    char_var = list(set(x.columns) - set(x._get_numeric_data().columns))\n",
    "    for col_names in char_var:\n",
    "        f = pd.factorize(x[col_names])\n",
    "        x[col_names] = pd.factorize(x[col_names])[0]\n",
    "    return(x)"
   ]
  },
  {
   "cell_type": "markdown",
   "metadata": {},
   "source": [
    "Кодируем качественные переменные."
   ]
  },
  {
   "cell_type": "code",
   "execution_count": 15,
   "metadata": {},
   "outputs": [],
   "source": [
    "df = encoding_char(df)"
   ]
  },
  {
   "cell_type": "code",
   "execution_count": 16,
   "metadata": {},
   "outputs": [
    {
     "data": {
      "text/html": [
       "<div>\n",
       "<style scoped>\n",
       "    .dataframe tbody tr th:only-of-type {\n",
       "        vertical-align: middle;\n",
       "    }\n",
       "\n",
       "    .dataframe tbody tr th {\n",
       "        vertical-align: top;\n",
       "    }\n",
       "\n",
       "    .dataframe thead th {\n",
       "        text-align: right;\n",
       "    }\n",
       "</style>\n",
       "<table border=\"1\" class=\"dataframe\">\n",
       "  <thead>\n",
       "    <tr style=\"text-align: right;\">\n",
       "      <th></th>\n",
       "      <th>Gender</th>\n",
       "      <th>Married</th>\n",
       "      <th>Dependents</th>\n",
       "      <th>Education</th>\n",
       "      <th>Self_Employed</th>\n",
       "      <th>ApplicantIncome</th>\n",
       "      <th>CoapplicantIncome</th>\n",
       "      <th>Loan_Amount_Term</th>\n",
       "      <th>Credit_History</th>\n",
       "      <th>LoanAmount</th>\n",
       "    </tr>\n",
       "  </thead>\n",
       "  <tbody>\n",
       "    <tr>\n",
       "      <th>0</th>\n",
       "      <td>0</td>\n",
       "      <td>0</td>\n",
       "      <td>0.0</td>\n",
       "      <td>0</td>\n",
       "      <td>0</td>\n",
       "      <td>5849.0</td>\n",
       "      <td>0.0</td>\n",
       "      <td>360.0</td>\n",
       "      <td>1.0</td>\n",
       "      <td>146.0</td>\n",
       "    </tr>\n",
       "    <tr>\n",
       "      <th>1</th>\n",
       "      <td>0</td>\n",
       "      <td>1</td>\n",
       "      <td>1.0</td>\n",
       "      <td>0</td>\n",
       "      <td>0</td>\n",
       "      <td>4583.0</td>\n",
       "      <td>1508.0</td>\n",
       "      <td>360.0</td>\n",
       "      <td>1.0</td>\n",
       "      <td>128.0</td>\n",
       "    </tr>\n",
       "    <tr>\n",
       "      <th>2</th>\n",
       "      <td>0</td>\n",
       "      <td>1</td>\n",
       "      <td>0.0</td>\n",
       "      <td>0</td>\n",
       "      <td>1</td>\n",
       "      <td>3000.0</td>\n",
       "      <td>0.0</td>\n",
       "      <td>360.0</td>\n",
       "      <td>1.0</td>\n",
       "      <td>66.0</td>\n",
       "    </tr>\n",
       "    <tr>\n",
       "      <th>3</th>\n",
       "      <td>0</td>\n",
       "      <td>1</td>\n",
       "      <td>0.0</td>\n",
       "      <td>1</td>\n",
       "      <td>0</td>\n",
       "      <td>2583.0</td>\n",
       "      <td>2358.0</td>\n",
       "      <td>360.0</td>\n",
       "      <td>1.0</td>\n",
       "      <td>120.0</td>\n",
       "    </tr>\n",
       "    <tr>\n",
       "      <th>4</th>\n",
       "      <td>0</td>\n",
       "      <td>0</td>\n",
       "      <td>0.0</td>\n",
       "      <td>0</td>\n",
       "      <td>0</td>\n",
       "      <td>6000.0</td>\n",
       "      <td>0.0</td>\n",
       "      <td>360.0</td>\n",
       "      <td>1.0</td>\n",
       "      <td>141.0</td>\n",
       "    </tr>\n",
       "    <tr>\n",
       "      <th>...</th>\n",
       "      <td>...</td>\n",
       "      <td>...</td>\n",
       "      <td>...</td>\n",
       "      <td>...</td>\n",
       "      <td>...</td>\n",
       "      <td>...</td>\n",
       "      <td>...</td>\n",
       "      <td>...</td>\n",
       "      <td>...</td>\n",
       "      <td>...</td>\n",
       "    </tr>\n",
       "    <tr>\n",
       "      <th>609</th>\n",
       "      <td>1</td>\n",
       "      <td>0</td>\n",
       "      <td>0.0</td>\n",
       "      <td>0</td>\n",
       "      <td>0</td>\n",
       "      <td>2900.0</td>\n",
       "      <td>0.0</td>\n",
       "      <td>360.0</td>\n",
       "      <td>1.0</td>\n",
       "      <td>71.0</td>\n",
       "    </tr>\n",
       "    <tr>\n",
       "      <th>610</th>\n",
       "      <td>0</td>\n",
       "      <td>1</td>\n",
       "      <td>3.0</td>\n",
       "      <td>0</td>\n",
       "      <td>0</td>\n",
       "      <td>4106.0</td>\n",
       "      <td>0.0</td>\n",
       "      <td>180.0</td>\n",
       "      <td>1.0</td>\n",
       "      <td>40.0</td>\n",
       "    </tr>\n",
       "    <tr>\n",
       "      <th>611</th>\n",
       "      <td>0</td>\n",
       "      <td>1</td>\n",
       "      <td>1.0</td>\n",
       "      <td>0</td>\n",
       "      <td>0</td>\n",
       "      <td>8072.0</td>\n",
       "      <td>240.0</td>\n",
       "      <td>360.0</td>\n",
       "      <td>1.0</td>\n",
       "      <td>253.0</td>\n",
       "    </tr>\n",
       "    <tr>\n",
       "      <th>612</th>\n",
       "      <td>0</td>\n",
       "      <td>1</td>\n",
       "      <td>2.0</td>\n",
       "      <td>0</td>\n",
       "      <td>0</td>\n",
       "      <td>7583.0</td>\n",
       "      <td>0.0</td>\n",
       "      <td>360.0</td>\n",
       "      <td>1.0</td>\n",
       "      <td>187.0</td>\n",
       "    </tr>\n",
       "    <tr>\n",
       "      <th>613</th>\n",
       "      <td>1</td>\n",
       "      <td>0</td>\n",
       "      <td>0.0</td>\n",
       "      <td>0</td>\n",
       "      <td>1</td>\n",
       "      <td>4583.0</td>\n",
       "      <td>0.0</td>\n",
       "      <td>360.0</td>\n",
       "      <td>0.0</td>\n",
       "      <td>133.0</td>\n",
       "    </tr>\n",
       "  </tbody>\n",
       "</table>\n",
       "<p>614 rows × 10 columns</p>\n",
       "</div>"
      ],
      "text/plain": [
       "     Gender  Married  Dependents  Education  Self_Employed  ApplicantIncome  \\\n",
       "0         0        0         0.0          0              0           5849.0   \n",
       "1         0        1         1.0          0              0           4583.0   \n",
       "2         0        1         0.0          0              1           3000.0   \n",
       "3         0        1         0.0          1              0           2583.0   \n",
       "4         0        0         0.0          0              0           6000.0   \n",
       "..      ...      ...         ...        ...            ...              ...   \n",
       "609       1        0         0.0          0              0           2900.0   \n",
       "610       0        1         3.0          0              0           4106.0   \n",
       "611       0        1         1.0          0              0           8072.0   \n",
       "612       0        1         2.0          0              0           7583.0   \n",
       "613       1        0         0.0          0              1           4583.0   \n",
       "\n",
       "     CoapplicantIncome  Loan_Amount_Term  Credit_History  LoanAmount  \n",
       "0                  0.0             360.0             1.0       146.0  \n",
       "1               1508.0             360.0             1.0       128.0  \n",
       "2                  0.0             360.0             1.0        66.0  \n",
       "3               2358.0             360.0             1.0       120.0  \n",
       "4                  0.0             360.0             1.0       141.0  \n",
       "..                 ...               ...             ...         ...  \n",
       "609                0.0             360.0             1.0        71.0  \n",
       "610                0.0             180.0             1.0        40.0  \n",
       "611              240.0             360.0             1.0       253.0  \n",
       "612                0.0             360.0             1.0       187.0  \n",
       "613                0.0             360.0             0.0       133.0  \n",
       "\n",
       "[614 rows x 10 columns]"
      ]
     },
     "execution_count": 16,
     "metadata": {},
     "output_type": "execute_result"
    }
   ],
   "source": [
    "df"
   ]
  },
  {
   "cell_type": "code",
   "execution_count": 17,
   "metadata": {},
   "outputs": [],
   "source": [
    "df.to_csv('data_prep.csv', sep=',', index=False)"
   ]
  },
  {
   "cell_type": "markdown",
   "metadata": {},
   "source": [
    "После чистки и обработки данных, экспортируем их в новый файл, которым будет удобно пользоваться для дальнейших исследований."
   ]
  },
  {
   "cell_type": "code",
   "execution_count": 18,
   "metadata": {},
   "outputs": [
    {
     "data": {
      "image/png": "[encoded data removed]",
      "text/plain": [
       "<Figure size 864x648 with 2 Axes>"
      ]
     },
     "metadata": {
      "needs_background": "light"
     },
     "output_type": "display_data"
    }
   ],
   "source": [
    "import seaborn as sns\n",
    "corrmat = df.corr()\n",
    "f, ax = plt.subplots(figsize=(12, 9))\n",
    "sns.heatmap(corrmat, annot=True)\n",
    "plt.show()"
   ]
  },
  {
   "cell_type": "markdown",
   "metadata": {},
   "source": [
    "Для того, чтобы выяснить какие переменные у нас самые значимые, мы построим их корреляционную матрицу и видим, что доход заявителя и со-заявителя имеют относительно всокие корреляции, также коррелируют такие факторы как, семейное положение и количество детей."
   ]
  },
  {
   "cell_type": "code",
   "execution_count": 19,
   "metadata": {},
   "outputs": [],
   "source": [
    "X = df.iloc[:, :-1].values\n",
    "y = df.iloc[:, 9].values\n",
    "from sklearn.model_selection import train_test_split\n",
    "X_train, X_test, y_train, y_test = train_test_split(X, y, test_size=0.2, random_state=10)"
   ]
  },
  {
   "cell_type": "markdown",
   "metadata": {},
   "source": [
    "Выделил нужные Х и У, а затем разделил датасет на тестовый (20%) и обучающий (80%)."
   ]
  },
  {
   "cell_type": "code",
   "execution_count": 20,
   "metadata": {},
   "outputs": [],
   "source": [
    "from sklearn.linear_model import LinearRegression\n",
    "sr = LinearRegression().fit(X_train[:, 5:6], y_train)"
   ]
  },
  {
   "cell_type": "markdown",
   "metadata": {},
   "source": [
    "Строим простую линейную регрессию зависимости от одного фактора - доход заявителя."
   ]
  },
  {
   "cell_type": "code",
   "execution_count": 21,
   "metadata": {},
   "outputs": [
    {
     "data": {
      "text/plain": [
       "(array([0.01036051]), 92.28591844277113)"
      ]
     },
     "execution_count": 21,
     "metadata": {},
     "output_type": "execute_result"
    }
   ],
   "source": [
    "sr.coef_, sr.intercept_"
   ]
  },
  {
   "cell_type": "markdown",
   "metadata": {},
   "source": [
    "Оцениваем полученные параметры."
   ]
  },
  {
   "cell_type": "code",
   "execution_count": 22,
   "metadata": {},
   "outputs": [],
   "source": [
    "y_pred = sr.predict(X_test[:, 5:6])"
   ]
  },
  {
   "cell_type": "markdown",
   "metadata": {},
   "source": [
    "Строим прогноз."
   ]
  },
  {
   "cell_type": "code",
   "execution_count": 23,
   "metadata": {},
   "outputs": [
    {
     "data": {
      "text/plain": [
       "(0.3496104750637723, 0.3279960623380803)"
      ]
     },
     "execution_count": 23,
     "metadata": {},
     "output_type": "execute_result"
    }
   ],
   "source": [
    "sr.score(X_train[:, 5:6], y_train), sr.score(X_test[:, 5:6], y_test)"
   ]
  },
  {
   "cell_type": "markdown",
   "metadata": {},
   "source": [
    "Находим коэффициент детерминации, который для обучающей выборки равен 0.35, а для тестовой 0.33, что является неудовлетвориельным значением доверия и модель не может использоваться для практического применения."
   ]
  },
  {
   "cell_type": "code",
   "execution_count": 24,
   "metadata": {},
   "outputs": [
    {
     "data": {
      "text/plain": [
       "(3432.376225299781, 2617.7231699734125)"
      ]
     },
     "execution_count": 24,
     "metadata": {},
     "output_type": "execute_result"
    }
   ],
   "source": [
    "from sklearn.metrics import mean_squared_error\n",
    "mean_squared_error(y_train, sr.predict(X_train[:, 5:6])), mean_squared_error(y_test, y_pred)"
   ]
  },
  {
   "cell_type": "markdown",
   "metadata": {},
   "source": [
    "Расчитываем среднеквадратическую ошибку. Ошибка выросла, можно сделать вывод что сумма кредита, зависит не только от дохода заявителя, поэтому для более точного построения модели необходимо включить большее количество факторов, для этого необходим  построить множественную регрессию."
   ]
  },
  {
   "cell_type": "code",
   "execution_count": 25,
   "metadata": {},
   "outputs": [
    {
     "data": {
      "image/png": "[encoded data removed]",
      "text/plain": [
       "<Figure size 432x288 with 1 Axes>"
      ]
     },
     "metadata": {
      "needs_background": "light"
     },
     "output_type": "display_data"
    }
   ],
   "source": [
    "# Visualising the Test set results\n",
    "plt.scatter(X_test[:,5], y_test, color = 'red')\n",
    "plt.plot(X_test[:,5], sr.predict(X_test[:, 5:6]), 'bo')\n",
    "plt.title('LoanAmount vs ApplicantIncome (Test set)')\n",
    "plt.xlabel('ApplicantIncome')\n",
    "plt.ylabel('LoanAmount')\n",
    "plt.show()"
   ]
  },
  {
   "cell_type": "code",
   "execution_count": 26,
   "metadata": {},
   "outputs": [
    {
     "data": {
      "text/html": [
       "<table class=\"simpletable\">\n",
       "<caption>OLS Regression Results</caption>\n",
       "<tr>\n",
       "  <th>Dep. Variable:</th>            <td>y</td>        <th>  R-squared:         </th> <td>   0.510</td>\n",
       "</tr>\n",
       "<tr>\n",
       "  <th>Model:</th>                   <td>OLS</td>       <th>  Adj. R-squared:    </th> <td>   0.501</td>\n",
       "</tr>\n",
       "<tr>\n",
       "  <th>Method:</th>             <td>Least Squares</td>  <th>  F-statistic:       </th> <td>   55.67</td>\n",
       "</tr>\n",
       "<tr>\n",
       "  <th>Date:</th>             <td>Mon, 28 Dec 2020</td> <th>  Prob (F-statistic):</th> <td>5.14e-69</td>\n",
       "</tr>\n",
       "<tr>\n",
       "  <th>Time:</th>                 <td>19:23:45</td>     <th>  Log-Likelihood:    </th> <td> -2625.7</td>\n",
       "</tr>\n",
       "<tr>\n",
       "  <th>No. Observations:</th>      <td>   491</td>      <th>  AIC:               </th> <td>   5271.</td>\n",
       "</tr>\n",
       "<tr>\n",
       "  <th>Df Residuals:</th>          <td>   481</td>      <th>  BIC:               </th> <td>   5313.</td>\n",
       "</tr>\n",
       "<tr>\n",
       "  <th>Df Model:</th>              <td>     9</td>      <th>                     </th>     <td> </td>   \n",
       "</tr>\n",
       "<tr>\n",
       "  <th>Covariance Type:</th>      <td>nonrobust</td>    <th>                     </th>     <td> </td>   \n",
       "</tr>\n",
       "</table>\n",
       "<table class=\"simpletable\">\n",
       "<tr>\n",
       "    <td></td>       <th>coef</th>     <th>std err</th>      <th>t</th>      <th>P>|t|</th>  <th>[0.025</th>    <th>0.975]</th>  \n",
       "</tr>\n",
       "<tr>\n",
       "  <th>const</th> <td>   33.1220</td> <td>   16.840</td> <td>    1.967</td> <td> 0.050</td> <td>    0.032</td> <td>   66.212</td>\n",
       "</tr>\n",
       "<tr>\n",
       "  <th>x1</th>    <td>    0.3779</td> <td>    6.318</td> <td>    0.060</td> <td> 0.952</td> <td>  -12.036</td> <td>   12.792</td>\n",
       "</tr>\n",
       "<tr>\n",
       "  <th>x2</th>    <td>    7.9963</td> <td>    5.543</td> <td>    1.443</td> <td> 0.150</td> <td>   -2.895</td> <td>   18.888</td>\n",
       "</tr>\n",
       "<tr>\n",
       "  <th>x3</th>    <td>    7.9193</td> <td>    2.471</td> <td>    3.204</td> <td> 0.001</td> <td>    3.063</td> <td>   12.775</td>\n",
       "</tr>\n",
       "<tr>\n",
       "  <th>x4</th>    <td>   -7.3250</td> <td>    5.790</td> <td>   -1.265</td> <td> 0.206</td> <td>  -18.701</td> <td>    4.051</td>\n",
       "</tr>\n",
       "<tr>\n",
       "  <th>x5</th>    <td>   -8.2505</td> <td>    6.813</td> <td>   -1.211</td> <td> 0.226</td> <td>  -21.637</td> <td>    5.136</td>\n",
       "</tr>\n",
       "<tr>\n",
       "  <th>x6</th>    <td>    0.0111</td> <td>    0.001</td> <td>   18.649</td> <td> 0.000</td> <td>    0.010</td> <td>    0.012</td>\n",
       "</tr>\n",
       "<tr>\n",
       "  <th>x7</th>    <td>    0.0137</td> <td>    0.001</td> <td>   10.934</td> <td> 0.000</td> <td>    0.011</td> <td>    0.016</td>\n",
       "</tr>\n",
       "<tr>\n",
       "  <th>x8</th>    <td>    0.0749</td> <td>    0.041</td> <td>    1.842</td> <td> 0.066</td> <td>   -0.005</td> <td>    0.155</td>\n",
       "</tr>\n",
       "<tr>\n",
       "  <th>x9</th>    <td>    0.0817</td> <td>    6.447</td> <td>    0.013</td> <td> 0.990</td> <td>  -12.586</td> <td>   12.750</td>\n",
       "</tr>\n",
       "</table>\n",
       "<table class=\"simpletable\">\n",
       "<tr>\n",
       "  <th>Omnibus:</th>       <td>54.943</td> <th>  Durbin-Watson:     </th> <td>   1.864</td>\n",
       "</tr>\n",
       "<tr>\n",
       "  <th>Prob(Omnibus):</th> <td> 0.000</td> <th>  Jarque-Bera (JB):  </th> <td> 284.612</td>\n",
       "</tr>\n",
       "<tr>\n",
       "  <th>Skew:</th>          <td>-0.293</td> <th>  Prob(JB):          </th> <td>1.58e-62</td>\n",
       "</tr>\n",
       "<tr>\n",
       "  <th>Kurtosis:</th>      <td> 6.683</td> <th>  Cond. No.          </th> <td>4.99e+04</td>\n",
       "</tr>\n",
       "</table><br/><br/>Warnings:<br/>[1] Standard Errors assume that the covariance matrix of the errors is correctly specified.<br/>[2] The condition number is large, 4.99e+04. This might indicate that there are<br/>strong multicollinearity or other numerical problems."
      ],
      "text/plain": [
       "<class 'statsmodels.iolib.summary.Summary'>\n",
       "\"\"\"\n",
       "                            OLS Regression Results                            \n",
       "==============================================================================\n",
       "Dep. Variable:                      y   R-squared:                       0.510\n",
       "Model:                            OLS   Adj. R-squared:                  0.501\n",
       "Method:                 Least Squares   F-statistic:                     55.67\n",
       "Date:                Mon, 28 Dec 2020   Prob (F-statistic):           5.14e-69\n",
       "Time:                        19:23:45   Log-Likelihood:                -2625.7\n",
       "No. Observations:                 491   AIC:                             5271.\n",
       "Df Residuals:                     481   BIC:                             5313.\n",
       "Df Model:                           9                                         \n",
       "Covariance Type:            nonrobust                                         \n",
       "==============================================================================\n",
       "                 coef    std err          t      P>|t|      [0.025      0.975]\n",
       "------------------------------------------------------------------------------\n",
       "const         33.1220     16.840      1.967      0.050       0.032      66.212\n",
       "x1             0.3779      6.318      0.060      0.952     -12.036      12.792\n",
       "x2             7.9963      5.543      1.443      0.150      -2.895      18.888\n",
       "x3             7.9193      2.471      3.204      0.001       3.063      12.775\n",
       "x4            -7.3250      5.790     -1.265      0.206     -18.701       4.051\n",
       "x5            -8.2505      6.813     -1.211      0.226     -21.637       5.136\n",
       "x6             0.0111      0.001     18.649      0.000       0.010       0.012\n",
       "x7             0.0137      0.001     10.934      0.000       0.011       0.016\n",
       "x8             0.0749      0.041      1.842      0.066      -0.005       0.155\n",
       "x9             0.0817      6.447      0.013      0.990     -12.586      12.750\n",
       "==============================================================================\n",
       "Omnibus:                       54.943   Durbin-Watson:                   1.864\n",
       "Prob(Omnibus):                  0.000   Jarque-Bera (JB):              284.612\n",
       "Skew:                          -0.293   Prob(JB):                     1.58e-62\n",
       "Kurtosis:                       6.683   Cond. No.                     4.99e+04\n",
       "==============================================================================\n",
       "\n",
       "Warnings:\n",
       "[1] Standard Errors assume that the covariance matrix of the errors is correctly specified.\n",
       "[2] The condition number is large, 4.99e+04. This might indicate that there are\n",
       "strong multicollinearity or other numerical problems.\n",
       "\"\"\""
      ]
     },
     "execution_count": 26,
     "metadata": {},
     "output_type": "execute_result"
    }
   ],
   "source": [
    "import statsmodels.api as sm\n",
    "X = sm.add_constant(X_train)\n",
    "mr1 = sm.OLS(y_train, X).fit()\n",
    "#mr1.pvalues\n",
    "mr1.summary()"
   ]
  },
  {
   "cell_type": "markdown",
   "metadata": {},
   "source": [
    "Строим множественную регрессию. Проверяем P value - делаем выводы, что 3 переменные  значимы и будем использовать их."
   ]
  },
  {
   "cell_type": "code",
   "execution_count": 27,
   "metadata": {},
   "outputs": [],
   "source": [
    "def backwardElimination(x, sl):\n",
    "    x = sm.add_constant(x)\n",
    "    numVars = len(x[0])\n",
    "    for i in range(0, numVars):\n",
    "        regressor_OLS = sm.OLS(y, x).fit()\n",
    "        maxVar = max(regressor_OLS.pvalues).astype(float)\n",
    "        if maxVar > sl:\n",
    "            for j in range(0, numVars - i):\n",
    "                if (regressor_OLS.pvalues[j].astype(float) == maxVar):\n",
    "                    x = np.delete(x, j, 1)\n",
    "    regressor_OLS.summary()\n",
    "    return x\n",
    "\n",
    "import statsmodels.api as sm         \n",
    "SL = 0.05\n",
    "X_opt = X_train\n",
    "y = y_train\n",
    "X_Modeled = backwardElimination(X_opt, SL)"
   ]
  },
  {
   "cell_type": "markdown",
   "metadata": {},
   "source": [
    "Определяем значимые переменные с погрешностью 5%."
   ]
  },
  {
   "cell_type": "code",
   "execution_count": 28,
   "metadata": {},
   "outputs": [],
   "source": [
    "mr = LinearRegression().fit(X_train, y_train)"
   ]
  },
  {
   "cell_type": "markdown",
   "metadata": {},
   "source": [
    "Строим множественную регрессию на обучающей выборке."
   ]
  },
  {
   "cell_type": "code",
   "execution_count": 29,
   "metadata": {},
   "outputs": [
    {
     "data": {
      "text/plain": [
       "(array([ 0.37786248,  7.99634175,  7.91926471, -7.32497585, -8.25046555,\n",
       "         0.01110744,  0.0137063 ,  0.07492242,  0.08166586]),\n",
       " 33.12198805382681)"
      ]
     },
     "execution_count": 29,
     "metadata": {},
     "output_type": "execute_result"
    }
   ],
   "source": [
    "mr.coef_, mr.intercept_"
   ]
  },
  {
   "cell_type": "markdown",
   "metadata": {},
   "source": [
    "Получаем и оцениваем параметры."
   ]
  },
  {
   "cell_type": "code",
   "execution_count": 30,
   "metadata": {},
   "outputs": [],
   "source": [
    "y_pred = mr.predict(X_test)"
   ]
  },
  {
   "cell_type": "markdown",
   "metadata": {},
   "source": [
    "Строим прогноз."
   ]
  },
  {
   "cell_type": "code",
   "execution_count": 31,
   "metadata": {},
   "outputs": [
    {
     "data": {
      "text/plain": [
       "(0.5102180734118571, 0.47707166516433896)"
      ]
     },
     "execution_count": 31,
     "metadata": {},
     "output_type": "execute_result"
    }
   ],
   "source": [
    "mr.score(X_train, y_train), mr.score(X_test, y_test)"
   ]
  },
  {
   "cell_type": "markdown",
   "metadata": {},
   "source": [
    "Находим коэффициент детерминации, который для обучающей выборки равен 0.51, а для тестовой 0.47, что является лучше, чем в однофакторной моделе, однако этого все равно мало и модель не может использоваться для практического применения."
   ]
  },
  {
   "cell_type": "code",
   "execution_count": 32,
   "metadata": {},
   "outputs": [
    {
     "data": {
      "text/plain": [
       "(2584.7830814426197, 2037.014281638926)"
      ]
     },
     "execution_count": 32,
     "metadata": {},
     "output_type": "execute_result"
    }
   ],
   "source": [
    "# Mean squared error\n",
    "mean_squared_error(y_train, mr.predict(X_train)), mean_squared_error(y_test, y_pred)"
   ]
  },
  {
   "cell_type": "markdown",
   "metadata": {},
   "source": [
    "Среднеквадратическая ошибка выросла."
   ]
  },
  {
   "cell_type": "code",
   "execution_count": 33,
   "metadata": {},
   "outputs": [
    {
     "data": {
      "image/png": "[encoded data removed]",
      "text/plain": [
       "<Figure size 432x288 with 1 Axes>"
      ]
     },
     "metadata": {
      "needs_background": "light"
     },
     "output_type": "display_data"
    }
   ],
   "source": [
    "# Visualising the Test set results\n",
    "plt.scatter(X_test[:,5], y_test, color = 'red')\n",
    "plt.plot(X_test[:,5], mr.predict(X_test), 'bo')\n",
    "plt.title('LoanAmount vs ApplicantIncome (Test set)')\n",
    "plt.xlabel('ApplicantIncome')\n",
    "plt.ylabel('LoanAmount')\n",
    "plt.show()"
   ]
  },
  {
   "cell_type": "markdown",
   "metadata": {},
   "source": [
    "В принципе, типичные значения модель определяет неплохо, а вот с исключениями так не работает."
   ]
  },
  {
   "cell_type": "code",
   "execution_count": 34,
   "metadata": {},
   "outputs": [],
   "source": [
    "from sklearn.preprocessing import PolynomialFeatures\n",
    "X_train_p = PolynomialFeatures().fit_transform(X_train)\n",
    "X_test_p = PolynomialFeatures().fit_transform(X_test)\n",
    "pr = LinearRegression().fit(X_train_p[:,5:], y_train)"
   ]
  },
  {
   "cell_type": "markdown",
   "metadata": {},
   "source": [
    "Построим полиномиальную регрессию для нашего датасета."
   ]
  },
  {
   "cell_type": "code",
   "execution_count": 35,
   "metadata": {},
   "outputs": [
    {
     "data": {
      "text/plain": [
       "(array([-1.44741373e+07,  2.21324813e-02,  2.28288292e-02, -8.88498143e-02,\n",
       "        -2.66622908e+00,  7.67727159e+01, -4.73338013e+00,  1.76751518e+01,\n",
       "         1.68116666e+01,  2.58134854e+01, -2.83597173e-03, -2.22811980e-03,\n",
       "        -1.76577164e-01, -1.12334655e+01, -1.74370851e+01, -8.06206254e+00,\n",
       "         8.65220954e+00, -4.18850375e+00,  2.09793742e-03,  4.57330033e-03,\n",
       "         5.42266320e-02, -2.69105762e-01,  5.39273020e+00,  1.07236465e-01,\n",
       "         1.69054648e+01,  6.48085597e-04,  2.74851615e-03, -3.55995328e-02,\n",
       "        -2.18576411e+00,  5.89050780e+01, -6.39584303e+00, -8.41715434e-04,\n",
       "         1.50116946e-03, -1.75271914e-01, -7.65601796e+00,  1.44741208e+07,\n",
       "        -4.17588627e-03, -3.46663502e-03,  9.46939780e-02, -9.37583369e+00,\n",
       "        -4.78497906e-07, -7.38427087e-07,  1.16624016e-06, -7.64216331e-04,\n",
       "        -4.49870779e-07, -1.58474941e-05, -1.80036308e-03,  3.75531538e-04,\n",
       "         5.74702692e-02, -2.59047104e+00]),\n",
       " 0.07773873460601521)"
      ]
     },
     "execution_count": 35,
     "metadata": {},
     "output_type": "execute_result"
    }
   ],
   "source": [
    "pr.coef_, pr.intercept_"
   ]
  },
  {
   "cell_type": "markdown",
   "metadata": {},
   "source": [
    "Получаем и оцениваем параметры."
   ]
  },
  {
   "cell_type": "code",
   "execution_count": 36,
   "metadata": {},
   "outputs": [],
   "source": [
    "y_pred = pr.predict(X_test_p[:,5:])"
   ]
  },
  {
   "cell_type": "markdown",
   "metadata": {},
   "source": [
    "Строим прогноз."
   ]
  },
  {
   "cell_type": "code",
   "execution_count": 37,
   "metadata": {},
   "outputs": [
    {
     "data": {
      "text/plain": [
       "(0.591484644648852, 0.4148129699710722)"
      ]
     },
     "execution_count": 37,
     "metadata": {},
     "output_type": "execute_result"
    }
   ],
   "source": [
    "pr.score(X_train_p[:,5:], y_train), pr.score(X_test_p[:,5:], y_test)"
   ]
  },
  {
   "cell_type": "markdown",
   "metadata": {},
   "source": [
    "Находим коэффициент детерминации, который для обучающей выборки равен 0.59, а для тестовой 0.41, модель не может использоваться для практического применения."
   ]
  },
  {
   "cell_type": "code",
   "execution_count": 38,
   "metadata": {},
   "outputs": [
    {
     "data": {
      "text/plain": [
       "(2155.905560617169, 2279.5367131394964)"
      ]
     },
     "execution_count": 38,
     "metadata": {},
     "output_type": "execute_result"
    }
   ],
   "source": [
    "mean_squared_error(y_train, pr.predict(X_train_p[:,5:])), mean_squared_error(y_test, y_pred)"
   ]
  },
  {
   "cell_type": "markdown",
   "metadata": {},
   "source": [
    "Расчитываем среднеквадратическую ошибку, она также ухудшилась."
   ]
  },
  {
   "cell_type": "markdown",
   "metadata": {},
   "source": [
    "Можно сделать следующие выводы, что полиномиальная регрессия описывает модель лучше, чем однофакторная, но хуже чем множественная."
   ]
  },
  {
   "cell_type": "code",
   "execution_count": 41,
   "metadata": {},
   "outputs": [],
   "source": [
    "import keras\n",
    "from keras.models import Sequential\n",
    "from keras.layers import Dense"
   ]
  },
  {
   "cell_type": "markdown",
   "metadata": {},
   "source": [
    "Подключаем необходимые библиотеки для построения нейронной сети."
   ]
  },
  {
   "cell_type": "code",
   "execution_count": 42,
   "metadata": {},
   "outputs": [],
   "source": [
    "rnn = Sequential()\n",
    "rnn.add(Dense(units = 16, activation = 'tanh', input_dim = 9))\n",
    "rnn.add(Dense(units = 4, activation = 'tanh'))\n",
    "rnn.add(Dense(units = 1, activation = 'linear'))\n",
    "rnn.compile(optimizer='adam', loss='mean_squared_error', metrics = ['accuracy'])"
   ]
  },
  {
   "cell_type": "markdown",
   "metadata": {},
   "source": [
    "Создаём сеть RNN, она будет последовательной. На первом и втором слое берем тангенс для повышенной точности. Для последнего слоя используем линейную функцию активации и обучим нашу нейронную сеть на протяжении 100 эпох."
   ]
  },
  {
   "cell_type": "code",
   "execution_count": 43,
   "metadata": {},
   "outputs": [
    {
     "name": "stdout",
     "output_type": "stream",
     "text": [
      "Epoch 1/100\n",
      "62/62 [==============================] - 0s 595us/step - loss: 1.5382 - accuracy: 0.0000e+00\n",
      "Epoch 2/100\n",
      "62/62 [==============================] - 0s 586us/step - loss: 1.0302 - accuracy: 0.0000e+00\n",
      "Epoch 3/100\n",
      "62/62 [==============================] - 0s 547us/step - loss: 0.7653 - accuracy: 0.0000e+00\n",
      "Epoch 4/100\n",
      "62/62 [==============================] - 0s 531us/step - loss: 0.6190 - accuracy: 0.0000e+00\n",
      "Epoch 5/100\n",
      "62/62 [==============================] - 0s 531us/step - loss: 0.5475 - accuracy: 0.0000e+00\n",
      "Epoch 6/100\n",
      "62/62 [==============================] - 0s 598us/step - loss: 0.5169 - accuracy: 0.0000e+00\n",
      "Epoch 7/100\n",
      "62/62 [==============================] - 0s 547us/step - loss: 0.5016 - accuracy: 0.0000e+00\n",
      "Epoch 8/100\n",
      "62/62 [==============================] - 0s 531us/step - loss: 0.4913 - accuracy: 0.0000e+00\n",
      "Epoch 9/100\n",
      "62/62 [==============================] - 0s 531us/step - loss: 0.4847 - accuracy: 0.0000e+00\n",
      "Epoch 10/100\n",
      "62/62 [==============================] - 0s 531us/step - loss: 0.4830 - accuracy: 0.0000e+00\n",
      "Epoch 11/100\n",
      "62/62 [==============================] - 0s 595us/step - loss: 0.4773 - accuracy: 0.0000e+00\n",
      "Epoch 12/100\n",
      "62/62 [==============================] - 0s 659us/step - loss: 0.4770 - accuracy: 0.0000e+00\n",
      "Epoch 13/100\n",
      "62/62 [==============================] - 0s 531us/step - loss: 0.4730 - accuracy: 0.0000e+00\n",
      "Epoch 14/100\n",
      "62/62 [==============================] - 0s 486us/step - loss: 0.4698 - accuracy: 0.0000e+00\n",
      "Epoch 15/100\n",
      "62/62 [==============================] - 0s 627us/step - loss: 0.4698 - accuracy: 0.0000e+00\n",
      "Epoch 16/100\n",
      "62/62 [==============================] - 0s 643us/step - loss: 0.4657 - accuracy: 0.0000e+00\n",
      "Epoch 17/100\n",
      "62/62 [==============================] - 0s 711us/step - loss: 0.4674 - accuracy: 0.0000e+00\n",
      "Epoch 18/100\n",
      "62/62 [==============================] - 0s 595us/step - loss: 0.4625 - accuracy: 0.0000e+00\n",
      "Epoch 19/100\n",
      "62/62 [==============================] - 0s 611us/step - loss: 0.4628 - accuracy: 0.0000e+00\n",
      "Epoch 20/100\n",
      "62/62 [==============================] - 0s 579us/step - loss: 0.4577 - accuracy: 0.0000e+00\n",
      "Epoch 21/100\n",
      "62/62 [==============================] - 0s 579us/step - loss: 0.4569 - accuracy: 0.0000e+00\n",
      "Epoch 22/100\n",
      "62/62 [==============================] - 0s 563us/step - loss: 0.4560 - accuracy: 0.0000e+00\n",
      "Epoch 23/100\n",
      "62/62 [==============================] - 0s 531us/step - loss: 0.4523 - accuracy: 0.0000e+00\n",
      "Epoch 24/100\n",
      "62/62 [==============================] - 0s 531us/step - loss: 0.4511 - accuracy: 0.0000e+00\n",
      "Epoch 25/100\n",
      "62/62 [==============================] - 0s 531us/step - loss: 0.4489 - accuracy: 0.0000e+00\n",
      "Epoch 26/100\n",
      "62/62 [==============================] - 0s 579us/step - loss: 0.4487 - accuracy: 0.0000e+00\n",
      "Epoch 27/100\n",
      "62/62 [==============================] - 0s 567us/step - loss: 0.4465 - accuracy: 0.0000e+00\n",
      "Epoch 28/100\n",
      "62/62 [==============================] - 0s 531us/step - loss: 0.4462 - accuracy: 0.0000e+00\n",
      "Epoch 29/100\n",
      "62/62 [==============================] - 0s 525us/step - loss: 0.4435 - accuracy: 0.0000e+00\n",
      "Epoch 30/100\n",
      "62/62 [==============================] - 0s 523us/step - loss: 0.4431 - accuracy: 0.0000e+00\n",
      "Epoch 31/100\n",
      "62/62 [==============================] - 0s 531us/step - loss: 0.4405 - accuracy: 0.0000e+00\n",
      "Epoch 32/100\n",
      "62/62 [==============================] - 0s 627us/step - loss: 0.4392 - accuracy: 0.0000e+00\n",
      "Epoch 33/100\n",
      "62/62 [==============================] - 0s 531us/step - loss: 0.4363 - accuracy: 0.0000e+00\n",
      "Epoch 34/100\n",
      "62/62 [==============================] - 0s 515us/step - loss: 0.4358 - accuracy: 0.0000e+00\n",
      "Epoch 35/100\n",
      "62/62 [==============================] - 0s 531us/step - loss: 0.4371 - accuracy: 0.0000e+00\n",
      "Epoch 36/100\n",
      "62/62 [==============================] - 0s 627us/step - loss: 0.4345 - accuracy: 0.0000e+00\n",
      "Epoch 37/100\n",
      "62/62 [==============================] - 0s 547us/step - loss: 0.4322 - accuracy: 0.0000e+00\n",
      "Epoch 38/100\n",
      "62/62 [==============================] - 0s 531us/step - loss: 0.4315 - accuracy: 0.0000e+00\n",
      "Epoch 39/100\n",
      "62/62 [==============================] - 0s 547us/step - loss: 0.4319 - accuracy: 0.0000e+00\n",
      "Epoch 40/100\n",
      "62/62 [==============================] - 0s 547us/step - loss: 0.4294 - accuracy: 0.0000e+00\n",
      "Epoch 41/100\n",
      "62/62 [==============================] - 0s 885us/step - loss: 0.4275 - accuracy: 0.0000e+00\n",
      "Epoch 42/100\n",
      "62/62 [==============================] - 0s 615us/step - loss: 0.4271 - accuracy: 0.0000e+00\n",
      "Epoch 43/100\n",
      "62/62 [==============================] - 0s 1ms/step - loss: 0.4267 - accuracy: 0.0000e+00\n",
      "Epoch 44/100\n",
      "62/62 [==============================] - 0s 595us/step - loss: 0.4255 - accuracy: 0.0000e+00\n",
      "Epoch 45/100\n",
      "62/62 [==============================] - 0s 547us/step - loss: 0.4209 - accuracy: 0.0000e+00\n",
      "Epoch 46/100\n",
      "62/62 [==============================] - 0s 595us/step - loss: 0.4231 - accuracy: 0.0000e+00\n",
      "Epoch 47/100\n",
      "62/62 [==============================] - 0s 547us/step - loss: 0.4204 - accuracy: 0.0000e+00\n",
      "Epoch 48/100\n",
      "62/62 [==============================] - 0s 547us/step - loss: 0.4178 - accuracy: 0.0000e+00\n",
      "Epoch 49/100\n",
      "62/62 [==============================] - 0s 611us/step - loss: 0.4154 - accuracy: 0.0000e+00\n",
      "Epoch 50/100\n",
      "62/62 [==============================] - 0s 535us/step - loss: 0.4157 - accuracy: 0.0000e+00\n",
      "Epoch 51/100\n",
      "62/62 [==============================] - 0s 531us/step - loss: 0.4130 - accuracy: 0.0000e+00\n",
      "Epoch 52/100\n",
      "62/62 [==============================] - 0s 563us/step - loss: 0.4132 - accuracy: 0.0000e+00\n",
      "Epoch 53/100\n",
      "62/62 [==============================] - 0s 579us/step - loss: 0.4142 - accuracy: 0.0000e+00\n",
      "Epoch 54/100\n",
      "62/62 [==============================] - 0s 515us/step - loss: 0.4099 - accuracy: 0.0000e+00\n",
      "Epoch 55/100\n",
      "62/62 [==============================] - 0s 515us/step - loss: 0.4094 - accuracy: 0.0000e+00\n",
      "Epoch 56/100\n",
      "62/62 [==============================] - 0s 515us/step - loss: 0.4074 - accuracy: 0.0000e+00\n",
      "Epoch 57/100\n",
      "62/62 [==============================] - 0s 499us/step - loss: 0.4062 - accuracy: 0.0000e+00\n",
      "Epoch 58/100\n",
      "62/62 [==============================] - 0s 483us/step - loss: 0.4049 - accuracy: 0.0000e+00\n",
      "Epoch 59/100\n",
      "62/62 [==============================] - 0s 483us/step - loss: 0.4040 - accuracy: 0.0000e+00\n",
      "Epoch 60/100\n",
      "62/62 [==============================] - 0s 497us/step - loss: 0.4010 - accuracy: 0.0000e+00\n",
      "Epoch 61/100\n",
      "62/62 [==============================] - 0s 499us/step - loss: 0.4046 - accuracy: 0.0000e+00\n",
      "Epoch 62/100\n",
      "62/62 [==============================] - 0s 483us/step - loss: 0.3993 - accuracy: 0.0000e+00\n",
      "Epoch 63/100\n",
      "62/62 [==============================] - 0s 499us/step - loss: 0.3985 - accuracy: 0.0000e+00\n",
      "Epoch 64/100\n",
      "62/62 [==============================] - 0s 502us/step - loss: 0.3997 - accuracy: 0.0000e+00\n",
      "Epoch 65/100\n",
      "62/62 [==============================] - 0s 515us/step - loss: 0.3972 - accuracy: 0.0000e+00\n",
      "Epoch 66/100\n",
      "62/62 [==============================] - 0s 499us/step - loss: 0.3935 - accuracy: 0.0000e+00\n",
      "Epoch 67/100\n",
      "62/62 [==============================] - 0s 499us/step - loss: 0.3899 - accuracy: 0.0000e+00\n",
      "Epoch 68/100\n",
      "62/62 [==============================] - 0s 531us/step - loss: 0.3884 - accuracy: 0.0000e+00\n",
      "Epoch 69/100\n",
      "62/62 [==============================] - 0s 499us/step - loss: 0.3918 - accuracy: 0.0000e+00\n",
      "Epoch 70/100\n",
      "62/62 [==============================] - 0s 515us/step - loss: 0.3885 - accuracy: 0.0000e+00\n",
      "Epoch 71/100\n",
      "62/62 [==============================] - 0s 499us/step - loss: 0.3870 - accuracy: 0.0000e+00\n",
      "Epoch 72/100\n",
      "62/62 [==============================] - 0s 466us/step - loss: 0.3874 - accuracy: 0.0000e+00\n",
      "Epoch 73/100\n",
      "62/62 [==============================] - 0s 483us/step - loss: 0.3857 - accuracy: 0.0000e+00\n",
      "Epoch 74/100\n",
      "62/62 [==============================] - 0s 466us/step - loss: 0.3872 - accuracy: 0.0000e+00\n",
      "Epoch 75/100\n",
      "62/62 [==============================] - 0s 507us/step - loss: 0.3859 - accuracy: 0.0000e+00\n",
      "Epoch 76/100\n",
      "62/62 [==============================] - 0s 519us/step - loss: 0.3802 - accuracy: 0.0000e+00\n",
      "Epoch 77/100\n",
      "62/62 [==============================] - 0s 466us/step - loss: 0.3808 - accuracy: 0.0000e+00\n",
      "Epoch 78/100\n",
      "62/62 [==============================] - 0s 482us/step - loss: 0.3797 - accuracy: 0.0000e+00\n",
      "Epoch 79/100\n",
      "62/62 [==============================] - 0s 499us/step - loss: 0.3765 - accuracy: 0.0000e+00\n",
      "Epoch 80/100\n",
      "62/62 [==============================] - 0s 514us/step - loss: 0.3740 - accuracy: 0.0000e+00\n",
      "Epoch 81/100\n",
      "62/62 [==============================] - 0s 499us/step - loss: 0.3722 - accuracy: 0.0000e+00\n",
      "Epoch 82/100\n",
      "62/62 [==============================] - 0s 483us/step - loss: 0.3740 - accuracy: 0.0000e+00\n",
      "Epoch 83/100\n",
      "62/62 [==============================] - 0s 499us/step - loss: 0.3730 - accuracy: 0.0000e+00\n",
      "Epoch 84/100\n",
      "62/62 [==============================] - 0s 483us/step - loss: 0.3718 - accuracy: 0.0000e+00\n",
      "Epoch 85/100\n",
      "62/62 [==============================] - 0s 499us/step - loss: 0.3714 - accuracy: 0.0000e+00\n",
      "Epoch 86/100\n",
      "62/62 [==============================] - 0s 483us/step - loss: 0.3674 - accuracy: 0.0000e+00\n",
      "Epoch 87/100\n",
      "62/62 [==============================] - 0s 499us/step - loss: 0.3645 - accuracy: 0.0000e+00\n",
      "Epoch 88/100\n",
      "62/62 [==============================] - 0s 503us/step - loss: 0.3661 - accuracy: 0.0000e+00\n",
      "Epoch 89/100\n",
      "62/62 [==============================] - 0s 515us/step - loss: 0.3639 - accuracy: 0.0000e+00\n",
      "Epoch 90/100\n",
      "62/62 [==============================] - 0s 499us/step - loss: 0.3668 - accuracy: 0.0000e+00\n",
      "Epoch 91/100\n",
      "62/62 [==============================] - 0s 483us/step - loss: 0.3614 - accuracy: 0.0000e+00\n",
      "Epoch 92/100\n",
      "62/62 [==============================] - 0s 499us/step - loss: 0.3601 - accuracy: 0.0000e+00\n",
      "Epoch 93/100\n",
      "62/62 [==============================] - 0s 515us/step - loss: 0.3571 - accuracy: 0.0000e+00\n",
      "Epoch 94/100\n",
      "62/62 [==============================] - 0s 483us/step - loss: 0.3564 - accuracy: 0.0000e+00\n",
      "Epoch 95/100\n",
      "62/62 [==============================] - 0s 483us/step - loss: 0.3552 - accuracy: 0.0000e+00\n",
      "Epoch 96/100\n",
      "62/62 [==============================] - 0s 499us/step - loss: 0.3555 - accuracy: 0.0000e+00\n",
      "Epoch 97/100\n",
      "62/62 [==============================] - 0s 531us/step - loss: 0.3553 - accuracy: 0.0000e+00\n",
      "Epoch 98/100\n",
      "62/62 [==============================] - 0s 483us/step - loss: 0.3526 - accuracy: 0.0000e+00\n",
      "Epoch 99/100\n",
      "62/62 [==============================] - 0s 483us/step - loss: 0.3540 - accuracy: 0.0000e+00\n",
      "Epoch 100/100\n",
      "62/62 [==============================] - 0s 483us/step - loss: 0.3495 - accuracy: 0.0000e+00\n"
     ]
    },
    {
     "data": {
      "text/plain": [
       "<tensorflow.python.keras.callbacks.History at 0x1cb09501ee0>"
      ]
     },
     "execution_count": 43,
     "metadata": {},
     "output_type": "execute_result"
    }
   ],
   "source": [
    "rnn.fit(X_train, y_train, batch_size = 8, epochs = 100)"
   ]
  },
  {
   "cell_type": "code",
   "execution_count": 44,
   "metadata": {},
   "outputs": [],
   "source": [
    "y_pred = rnn.predict(X_test)"
   ]
  },
  {
   "cell_type": "markdown",
   "metadata": {},
   "source": [
    "Строим прогноз."
   ]
  },
  {
   "cell_type": "code",
   "execution_count": 45,
   "metadata": {},
   "outputs": [],
   "source": [
    "from sklearn.preprocessing import StandardScaler\n",
    "y_hat = sc_y.inverse_transform(y_pred)\n",
    "y_test = sc_y.inverse_transform(y_test)\n",
    "X_test = sc_X.inverse_transform(X_test)"
   ]
  },
  {
   "cell_type": "markdown",
   "metadata": {},
   "source": [
    "Проводим обратное шкалирование."
   ]
  },
  {
   "cell_type": "code",
   "execution_count": 46,
   "metadata": {},
   "outputs": [
    {
     "data": {
      "text/plain": [
       "2501.363681213096"
      ]
     },
     "execution_count": 46,
     "metadata": {},
     "output_type": "execute_result"
    }
   ],
   "source": [
    "from sklearn.metrics import mean_squared_error\n",
    "mean_squared_error(y_test, y_hat)"
   ]
  },
  {
   "cell_type": "markdown",
   "metadata": {},
   "source": [
    " Расчитываем среднеквадратическую ошибку. Ошибка практически больше, чем в полиномиальной и многофакторной регресииях. "
   ]
  },
  {
   "cell_type": "code",
   "execution_count": 47,
   "metadata": {},
   "outputs": [
    {
     "data": {
      "image/png": "[encoded data removed]",
      "text/plain": [
       "<Figure size 432x288 with 1 Axes>"
      ]
     },
     "metadata": {
      "needs_background": "light"
     },
     "output_type": "display_data"
    }
   ],
   "source": [
    "plt.scatter(X_test[:,5], y_test, color = 'red')\n",
    "plt.plot(X_test[:,5], y_hat, 'bo')\n",
    "plt.title('LoanAmount vs ApplicantIncome (Test set)')\n",
    "plt.xlabel('ApplicantIncome')\n",
    "plt.ylabel('LoanAmount')\n",
    "plt.show()"
   ]
  },
  {
   "cell_type": "markdown",
   "metadata": {},
   "source": [
    " Визуализируем нашу полученную модель."
   ]
  }
 ],
 "metadata": {
  "kernelspec": {
   "display_name": "Python 3",
   "language": "python",
   "name": "python3"
  },
  "language_info": {
   "codemirror_mode": {
    "name": "ipython",
    "version": 3
   },
   "file_extension": ".py",
   "mimetype": "text/x-python",
   "name": "python",
   "nbconvert_exporter": "python",
   "pygments_lexer": "ipython3",
   "version": "3.8.3"
  }
 },
 "nbformat": 4,
 "nbformat_minor": 4
}
