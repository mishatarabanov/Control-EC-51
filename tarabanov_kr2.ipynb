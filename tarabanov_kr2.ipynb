{
 "cells": [
  {
   "cell_type": "code",
   "execution_count": 24,
   "metadata": {},
   "outputs": [],
   "source": [
    "# Importing the libraries\n",
    "import numpy as np\n",
    "import matplotlib.pyplot as plt\n",
    "import pandas as pd"
   ]
  },
  {
   "cell_type": "markdown",
   "metadata": {},
   "source": [
    "Импортируем необходимые библиотеки и присваиваем им сокращенные названия."
   ]
  },
  {
   "cell_type": "code",
   "execution_count": 25,
   "metadata": {},
   "outputs": [],
   "source": [
    "# Importing the dataset\n",
    "df = pd.read_csv('kr2.csv', sep=',')"
   ]
  },
  {
   "cell_type": "markdown",
   "metadata": {},
   "source": [
    "Импортируем файл с данными используя библиотеку пандас."
   ]
  },
  {
   "cell_type": "code",
   "execution_count": 26,
   "metadata": {},
   "outputs": [
    {
     "data": {
      "text/html": [
       "<div>\n",
       "<style scoped>\n",
       "    .dataframe tbody tr th:only-of-type {\n",
       "        vertical-align: middle;\n",
       "    }\n",
       "\n",
       "    .dataframe tbody tr th {\n",
       "        vertical-align: top;\n",
       "    }\n",
       "\n",
       "    .dataframe thead th {\n",
       "        text-align: right;\n",
       "    }\n",
       "</style>\n",
       "<table border=\"1\" class=\"dataframe\">\n",
       "  <thead>\n",
       "    <tr style=\"text-align: right;\">\n",
       "      <th></th>\n",
       "      <th>Age</th>\n",
       "      <th>Sex</th>\n",
       "      <th>ALB</th>\n",
       "      <th>ALT</th>\n",
       "      <th>AST</th>\n",
       "      <th>CHOL</th>\n",
       "      <th>CREA</th>\n",
       "      <th>GGT</th>\n",
       "      <th>PROT</th>\n",
       "      <th>Category</th>\n",
       "    </tr>\n",
       "  </thead>\n",
       "  <tbody>\n",
       "    <tr>\n",
       "      <th>0</th>\n",
       "      <td>32</td>\n",
       "      <td>m</td>\n",
       "      <td>38.5</td>\n",
       "      <td>7.7</td>\n",
       "      <td>22.1</td>\n",
       "      <td>3.23</td>\n",
       "      <td>106.0</td>\n",
       "      <td>12.1</td>\n",
       "      <td>69.0</td>\n",
       "      <td>0</td>\n",
       "    </tr>\n",
       "    <tr>\n",
       "      <th>1</th>\n",
       "      <td>32</td>\n",
       "      <td>m</td>\n",
       "      <td>38.5</td>\n",
       "      <td>18.0</td>\n",
       "      <td>24.7</td>\n",
       "      <td>4.80</td>\n",
       "      <td>74.0</td>\n",
       "      <td>15.6</td>\n",
       "      <td>76.5</td>\n",
       "      <td>0</td>\n",
       "    </tr>\n",
       "    <tr>\n",
       "      <th>2</th>\n",
       "      <td>32</td>\n",
       "      <td>m</td>\n",
       "      <td>46.9</td>\n",
       "      <td>36.2</td>\n",
       "      <td>52.6</td>\n",
       "      <td>5.20</td>\n",
       "      <td>86.0</td>\n",
       "      <td>33.2</td>\n",
       "      <td>79.3</td>\n",
       "      <td>0</td>\n",
       "    </tr>\n",
       "    <tr>\n",
       "      <th>3</th>\n",
       "      <td>32</td>\n",
       "      <td>m</td>\n",
       "      <td>43.2</td>\n",
       "      <td>30.6</td>\n",
       "      <td>22.6</td>\n",
       "      <td>4.74</td>\n",
       "      <td>80.0</td>\n",
       "      <td>33.8</td>\n",
       "      <td>75.7</td>\n",
       "      <td>0</td>\n",
       "    </tr>\n",
       "    <tr>\n",
       "      <th>4</th>\n",
       "      <td>32</td>\n",
       "      <td>m</td>\n",
       "      <td>39.2</td>\n",
       "      <td>32.6</td>\n",
       "      <td>24.8</td>\n",
       "      <td>4.32</td>\n",
       "      <td>76.0</td>\n",
       "      <td>29.9</td>\n",
       "      <td>68.7</td>\n",
       "      <td>0</td>\n",
       "    </tr>\n",
       "    <tr>\n",
       "      <th>...</th>\n",
       "      <td>...</td>\n",
       "      <td>...</td>\n",
       "      <td>...</td>\n",
       "      <td>...</td>\n",
       "      <td>...</td>\n",
       "      <td>...</td>\n",
       "      <td>...</td>\n",
       "      <td>...</td>\n",
       "      <td>...</td>\n",
       "      <td>...</td>\n",
       "    </tr>\n",
       "    <tr>\n",
       "      <th>610</th>\n",
       "      <td>62</td>\n",
       "      <td>f</td>\n",
       "      <td>32.0</td>\n",
       "      <td>5.9</td>\n",
       "      <td>110.3</td>\n",
       "      <td>6.30</td>\n",
       "      <td>55.7</td>\n",
       "      <td>650.9</td>\n",
       "      <td>68.5</td>\n",
       "      <td>1</td>\n",
       "    </tr>\n",
       "    <tr>\n",
       "      <th>611</th>\n",
       "      <td>64</td>\n",
       "      <td>f</td>\n",
       "      <td>24.0</td>\n",
       "      <td>2.9</td>\n",
       "      <td>44.4</td>\n",
       "      <td>3.02</td>\n",
       "      <td>63.0</td>\n",
       "      <td>35.9</td>\n",
       "      <td>71.3</td>\n",
       "      <td>1</td>\n",
       "    </tr>\n",
       "    <tr>\n",
       "      <th>612</th>\n",
       "      <td>64</td>\n",
       "      <td>f</td>\n",
       "      <td>29.0</td>\n",
       "      <td>3.5</td>\n",
       "      <td>99.0</td>\n",
       "      <td>3.63</td>\n",
       "      <td>66.7</td>\n",
       "      <td>64.2</td>\n",
       "      <td>82.0</td>\n",
       "      <td>1</td>\n",
       "    </tr>\n",
       "    <tr>\n",
       "      <th>613</th>\n",
       "      <td>46</td>\n",
       "      <td>f</td>\n",
       "      <td>33.0</td>\n",
       "      <td>39.0</td>\n",
       "      <td>62.0</td>\n",
       "      <td>4.20</td>\n",
       "      <td>52.0</td>\n",
       "      <td>50.0</td>\n",
       "      <td>71.0</td>\n",
       "      <td>1</td>\n",
       "    </tr>\n",
       "    <tr>\n",
       "      <th>614</th>\n",
       "      <td>59</td>\n",
       "      <td>f</td>\n",
       "      <td>36.0</td>\n",
       "      <td>100.0</td>\n",
       "      <td>80.0</td>\n",
       "      <td>5.30</td>\n",
       "      <td>67.0</td>\n",
       "      <td>34.0</td>\n",
       "      <td>68.0</td>\n",
       "      <td>1</td>\n",
       "    </tr>\n",
       "  </tbody>\n",
       "</table>\n",
       "<p>615 rows × 10 columns</p>\n",
       "</div>"
      ],
      "text/plain": [
       "     Age Sex   ALB    ALT    AST  CHOL   CREA    GGT  PROT  Category\n",
       "0     32   m  38.5    7.7   22.1  3.23  106.0   12.1  69.0         0\n",
       "1     32   m  38.5   18.0   24.7  4.80   74.0   15.6  76.5         0\n",
       "2     32   m  46.9   36.2   52.6  5.20   86.0   33.2  79.3         0\n",
       "3     32   m  43.2   30.6   22.6  4.74   80.0   33.8  75.7         0\n",
       "4     32   m  39.2   32.6   24.8  4.32   76.0   29.9  68.7         0\n",
       "..   ...  ..   ...    ...    ...   ...    ...    ...   ...       ...\n",
       "610   62   f  32.0    5.9  110.3  6.30   55.7  650.9  68.5         1\n",
       "611   64   f  24.0    2.9   44.4  3.02   63.0   35.9  71.3         1\n",
       "612   64   f  29.0    3.5   99.0  3.63   66.7   64.2  82.0         1\n",
       "613   46   f  33.0   39.0   62.0  4.20   52.0   50.0  71.0         1\n",
       "614   59   f  36.0  100.0   80.0  5.30   67.0   34.0  68.0         1\n",
       "\n",
       "[615 rows x 10 columns]"
      ]
     },
     "execution_count": 26,
     "metadata": {},
     "output_type": "execute_result"
    }
   ],
   "source": [
    "df"
   ]
  },
  {
   "cell_type": "markdown",
   "metadata": {},
   "source": [
    "Выводим датасет на экран. Количество наблюдений 615, количество факторов из них 8 количественные и 1 качественный."
   ]
  },
  {
   "cell_type": "code",
   "execution_count": 27,
   "metadata": {},
   "outputs": [
    {
     "data": {
      "text/html": [
       "<div>\n",
       "<style scoped>\n",
       "    .dataframe tbody tr th:only-of-type {\n",
       "        vertical-align: middle;\n",
       "    }\n",
       "\n",
       "    .dataframe tbody tr th {\n",
       "        vertical-align: top;\n",
       "    }\n",
       "\n",
       "    .dataframe thead th {\n",
       "        text-align: right;\n",
       "    }\n",
       "</style>\n",
       "<table border=\"1\" class=\"dataframe\">\n",
       "  <thead>\n",
       "    <tr style=\"text-align: right;\">\n",
       "      <th></th>\n",
       "      <th>Total</th>\n",
       "      <th>Percent</th>\n",
       "    </tr>\n",
       "  </thead>\n",
       "  <tbody>\n",
       "    <tr>\n",
       "      <th>CHOL</th>\n",
       "      <td>10</td>\n",
       "      <td>0.016260</td>\n",
       "    </tr>\n",
       "    <tr>\n",
       "      <th>PROT</th>\n",
       "      <td>1</td>\n",
       "      <td>0.001626</td>\n",
       "    </tr>\n",
       "    <tr>\n",
       "      <th>ALT</th>\n",
       "      <td>1</td>\n",
       "      <td>0.001626</td>\n",
       "    </tr>\n",
       "    <tr>\n",
       "      <th>ALB</th>\n",
       "      <td>1</td>\n",
       "      <td>0.001626</td>\n",
       "    </tr>\n",
       "    <tr>\n",
       "      <th>Category</th>\n",
       "      <td>0</td>\n",
       "      <td>0.000000</td>\n",
       "    </tr>\n",
       "    <tr>\n",
       "      <th>GGT</th>\n",
       "      <td>0</td>\n",
       "      <td>0.000000</td>\n",
       "    </tr>\n",
       "    <tr>\n",
       "      <th>CREA</th>\n",
       "      <td>0</td>\n",
       "      <td>0.000000</td>\n",
       "    </tr>\n",
       "    <tr>\n",
       "      <th>AST</th>\n",
       "      <td>0</td>\n",
       "      <td>0.000000</td>\n",
       "    </tr>\n",
       "    <tr>\n",
       "      <th>Sex</th>\n",
       "      <td>0</td>\n",
       "      <td>0.000000</td>\n",
       "    </tr>\n",
       "    <tr>\n",
       "      <th>Age</th>\n",
       "      <td>0</td>\n",
       "      <td>0.000000</td>\n",
       "    </tr>\n",
       "  </tbody>\n",
       "</table>\n",
       "</div>"
      ],
      "text/plain": [
       "          Total   Percent\n",
       "CHOL         10  0.016260\n",
       "PROT          1  0.001626\n",
       "ALT           1  0.001626\n",
       "ALB           1  0.001626\n",
       "Category      0  0.000000\n",
       "GGT           0  0.000000\n",
       "CREA          0  0.000000\n",
       "AST           0  0.000000\n",
       "Sex           0  0.000000\n",
       "Age           0  0.000000"
      ]
     },
     "execution_count": 27,
     "metadata": {},
     "output_type": "execute_result"
    }
   ],
   "source": [
    "# Cheking Missing data\n",
    "total = df.isnull().sum().sort_values(ascending=False)\n",
    "percent = (df.isnull().sum()/df.isnull().count()).sort_values(ascending=False)\n",
    "missing_data = pd.concat([total, percent], axis=1, keys=['Total', 'Percent'])\n",
    "missing_data"
   ]
  },
  {
   "cell_type": "markdown",
   "metadata": {},
   "source": [
    "Проверяем наличие пропусков, присутствуют они только в числовых значениях."
   ]
  },
  {
   "cell_type": "code",
   "execution_count": 28,
   "metadata": {},
   "outputs": [],
   "source": [
    "# Function Missing data (numeric)\n",
    "def fill_missing_num(x):\n",
    "    num_var = list(x._get_numeric_data().columns)\n",
    "    for col_names in num_var:        \n",
    "        prep_med = SimpleImputer(missing_values=np.nan, strategy='mean')\n",
    "        prep_med.fit(x[num_var])\n",
    "        x[num_var] = prep_med.transform(x[num_var])\n",
    "    return(x)"
   ]
  },
  {
   "cell_type": "markdown",
   "metadata": {},
   "source": [
    "Избавляемся от пропусков, заполняя их средними значениями."
   ]
  },
  {
   "cell_type": "code",
   "execution_count": 29,
   "metadata": {},
   "outputs": [],
   "source": [
    "# Filling NA \n",
    "from sklearn.impute import SimpleImputer\n",
    "df = fill_missing_num(df)"
   ]
  },
  {
   "cell_type": "code",
   "execution_count": 30,
   "metadata": {},
   "outputs": [
    {
     "data": {
      "text/html": [
       "<div>\n",
       "<style scoped>\n",
       "    .dataframe tbody tr th:only-of-type {\n",
       "        vertical-align: middle;\n",
       "    }\n",
       "\n",
       "    .dataframe tbody tr th {\n",
       "        vertical-align: top;\n",
       "    }\n",
       "\n",
       "    .dataframe thead th {\n",
       "        text-align: right;\n",
       "    }\n",
       "</style>\n",
       "<table border=\"1\" class=\"dataframe\">\n",
       "  <thead>\n",
       "    <tr style=\"text-align: right;\">\n",
       "      <th></th>\n",
       "      <th>Total</th>\n",
       "      <th>Percent</th>\n",
       "    </tr>\n",
       "  </thead>\n",
       "  <tbody>\n",
       "    <tr>\n",
       "      <th>Category</th>\n",
       "      <td>0</td>\n",
       "      <td>0.0</td>\n",
       "    </tr>\n",
       "    <tr>\n",
       "      <th>PROT</th>\n",
       "      <td>0</td>\n",
       "      <td>0.0</td>\n",
       "    </tr>\n",
       "    <tr>\n",
       "      <th>GGT</th>\n",
       "      <td>0</td>\n",
       "      <td>0.0</td>\n",
       "    </tr>\n",
       "    <tr>\n",
       "      <th>CREA</th>\n",
       "      <td>0</td>\n",
       "      <td>0.0</td>\n",
       "    </tr>\n",
       "    <tr>\n",
       "      <th>CHOL</th>\n",
       "      <td>0</td>\n",
       "      <td>0.0</td>\n",
       "    </tr>\n",
       "    <tr>\n",
       "      <th>AST</th>\n",
       "      <td>0</td>\n",
       "      <td>0.0</td>\n",
       "    </tr>\n",
       "    <tr>\n",
       "      <th>ALT</th>\n",
       "      <td>0</td>\n",
       "      <td>0.0</td>\n",
       "    </tr>\n",
       "    <tr>\n",
       "      <th>ALB</th>\n",
       "      <td>0</td>\n",
       "      <td>0.0</td>\n",
       "    </tr>\n",
       "    <tr>\n",
       "      <th>Sex</th>\n",
       "      <td>0</td>\n",
       "      <td>0.0</td>\n",
       "    </tr>\n",
       "    <tr>\n",
       "      <th>Age</th>\n",
       "      <td>0</td>\n",
       "      <td>0.0</td>\n",
       "    </tr>\n",
       "  </tbody>\n",
       "</table>\n",
       "</div>"
      ],
      "text/plain": [
       "          Total  Percent\n",
       "Category      0      0.0\n",
       "PROT          0      0.0\n",
       "GGT           0      0.0\n",
       "CREA          0      0.0\n",
       "CHOL          0      0.0\n",
       "AST           0      0.0\n",
       "ALT           0      0.0\n",
       "ALB           0      0.0\n",
       "Sex           0      0.0\n",
       "Age           0      0.0"
      ]
     },
     "execution_count": 30,
     "metadata": {},
     "output_type": "execute_result"
    }
   ],
   "source": [
    "# Cheking Missing data\n",
    "total = df.isnull().sum().sort_values(ascending=False)\n",
    "percent = (df.isnull().sum()/df.isnull().count()).sort_values(ascending=False)\n",
    "missing_data = pd.concat([total, percent], axis=1, keys=['Total', 'Percent'])\n",
    "missing_data"
   ]
  },
  {
   "cell_type": "markdown",
   "metadata": {},
   "source": [
    "Делаем конечную проверку на наличие пропусков и убеждаемся, что их нет."
   ]
  },
  {
   "cell_type": "code",
   "execution_count": 31,
   "metadata": {},
   "outputs": [],
   "source": [
    "# Function Encoding\n",
    "def encoding_char(x):\n",
    "    char_var = list(set(x.columns) - set(x._get_numeric_data().columns))\n",
    "    for col_names in char_var:\n",
    "        f = pd.factorize(x[col_names])\n",
    "        x[col_names] = pd.factorize(x[col_names])[0]\n",
    "    return(x)"
   ]
  },
  {
   "cell_type": "markdown",
   "metadata": {},
   "source": [
    "Кодируем качественные переменные."
   ]
  },
  {
   "cell_type": "code",
   "execution_count": 32,
   "metadata": {},
   "outputs": [],
   "source": [
    "# Encoding categorical data\n",
    "df = encoding_char(df)"
   ]
  },
  {
   "cell_type": "markdown",
   "metadata": {},
   "source": [
    "Полученные результаты запишем в исходный датасет."
   ]
  },
  {
   "cell_type": "code",
   "execution_count": 33,
   "metadata": {},
   "outputs": [
    {
     "data": {
      "text/html": [
       "<div>\n",
       "<style scoped>\n",
       "    .dataframe tbody tr th:only-of-type {\n",
       "        vertical-align: middle;\n",
       "    }\n",
       "\n",
       "    .dataframe tbody tr th {\n",
       "        vertical-align: top;\n",
       "    }\n",
       "\n",
       "    .dataframe thead th {\n",
       "        text-align: right;\n",
       "    }\n",
       "</style>\n",
       "<table border=\"1\" class=\"dataframe\">\n",
       "  <thead>\n",
       "    <tr style=\"text-align: right;\">\n",
       "      <th></th>\n",
       "      <th>Age</th>\n",
       "      <th>Sex</th>\n",
       "      <th>ALB</th>\n",
       "      <th>ALT</th>\n",
       "      <th>AST</th>\n",
       "      <th>CHOL</th>\n",
       "      <th>CREA</th>\n",
       "      <th>GGT</th>\n",
       "      <th>PROT</th>\n",
       "      <th>Category</th>\n",
       "    </tr>\n",
       "  </thead>\n",
       "  <tbody>\n",
       "    <tr>\n",
       "      <th>0</th>\n",
       "      <td>32.0</td>\n",
       "      <td>0</td>\n",
       "      <td>38.5</td>\n",
       "      <td>7.7</td>\n",
       "      <td>22.1</td>\n",
       "      <td>3.23</td>\n",
       "      <td>106.0</td>\n",
       "      <td>12.1</td>\n",
       "      <td>69.0</td>\n",
       "      <td>0.0</td>\n",
       "    </tr>\n",
       "    <tr>\n",
       "      <th>1</th>\n",
       "      <td>32.0</td>\n",
       "      <td>0</td>\n",
       "      <td>38.5</td>\n",
       "      <td>18.0</td>\n",
       "      <td>24.7</td>\n",
       "      <td>4.80</td>\n",
       "      <td>74.0</td>\n",
       "      <td>15.6</td>\n",
       "      <td>76.5</td>\n",
       "      <td>0.0</td>\n",
       "    </tr>\n",
       "    <tr>\n",
       "      <th>2</th>\n",
       "      <td>32.0</td>\n",
       "      <td>0</td>\n",
       "      <td>46.9</td>\n",
       "      <td>36.2</td>\n",
       "      <td>52.6</td>\n",
       "      <td>5.20</td>\n",
       "      <td>86.0</td>\n",
       "      <td>33.2</td>\n",
       "      <td>79.3</td>\n",
       "      <td>0.0</td>\n",
       "    </tr>\n",
       "    <tr>\n",
       "      <th>3</th>\n",
       "      <td>32.0</td>\n",
       "      <td>0</td>\n",
       "      <td>43.2</td>\n",
       "      <td>30.6</td>\n",
       "      <td>22.6</td>\n",
       "      <td>4.74</td>\n",
       "      <td>80.0</td>\n",
       "      <td>33.8</td>\n",
       "      <td>75.7</td>\n",
       "      <td>0.0</td>\n",
       "    </tr>\n",
       "    <tr>\n",
       "      <th>4</th>\n",
       "      <td>32.0</td>\n",
       "      <td>0</td>\n",
       "      <td>39.2</td>\n",
       "      <td>32.6</td>\n",
       "      <td>24.8</td>\n",
       "      <td>4.32</td>\n",
       "      <td>76.0</td>\n",
       "      <td>29.9</td>\n",
       "      <td>68.7</td>\n",
       "      <td>0.0</td>\n",
       "    </tr>\n",
       "    <tr>\n",
       "      <th>...</th>\n",
       "      <td>...</td>\n",
       "      <td>...</td>\n",
       "      <td>...</td>\n",
       "      <td>...</td>\n",
       "      <td>...</td>\n",
       "      <td>...</td>\n",
       "      <td>...</td>\n",
       "      <td>...</td>\n",
       "      <td>...</td>\n",
       "      <td>...</td>\n",
       "    </tr>\n",
       "    <tr>\n",
       "      <th>610</th>\n",
       "      <td>62.0</td>\n",
       "      <td>1</td>\n",
       "      <td>32.0</td>\n",
       "      <td>5.9</td>\n",
       "      <td>110.3</td>\n",
       "      <td>6.30</td>\n",
       "      <td>55.7</td>\n",
       "      <td>650.9</td>\n",
       "      <td>68.5</td>\n",
       "      <td>1.0</td>\n",
       "    </tr>\n",
       "    <tr>\n",
       "      <th>611</th>\n",
       "      <td>64.0</td>\n",
       "      <td>1</td>\n",
       "      <td>24.0</td>\n",
       "      <td>2.9</td>\n",
       "      <td>44.4</td>\n",
       "      <td>3.02</td>\n",
       "      <td>63.0</td>\n",
       "      <td>35.9</td>\n",
       "      <td>71.3</td>\n",
       "      <td>1.0</td>\n",
       "    </tr>\n",
       "    <tr>\n",
       "      <th>612</th>\n",
       "      <td>64.0</td>\n",
       "      <td>1</td>\n",
       "      <td>29.0</td>\n",
       "      <td>3.5</td>\n",
       "      <td>99.0</td>\n",
       "      <td>3.63</td>\n",
       "      <td>66.7</td>\n",
       "      <td>64.2</td>\n",
       "      <td>82.0</td>\n",
       "      <td>1.0</td>\n",
       "    </tr>\n",
       "    <tr>\n",
       "      <th>613</th>\n",
       "      <td>46.0</td>\n",
       "      <td>1</td>\n",
       "      <td>33.0</td>\n",
       "      <td>39.0</td>\n",
       "      <td>62.0</td>\n",
       "      <td>4.20</td>\n",
       "      <td>52.0</td>\n",
       "      <td>50.0</td>\n",
       "      <td>71.0</td>\n",
       "      <td>1.0</td>\n",
       "    </tr>\n",
       "    <tr>\n",
       "      <th>614</th>\n",
       "      <td>59.0</td>\n",
       "      <td>1</td>\n",
       "      <td>36.0</td>\n",
       "      <td>100.0</td>\n",
       "      <td>80.0</td>\n",
       "      <td>5.30</td>\n",
       "      <td>67.0</td>\n",
       "      <td>34.0</td>\n",
       "      <td>68.0</td>\n",
       "      <td>1.0</td>\n",
       "    </tr>\n",
       "  </tbody>\n",
       "</table>\n",
       "<p>615 rows × 10 columns</p>\n",
       "</div>"
      ],
      "text/plain": [
       "      Age  Sex   ALB    ALT    AST  CHOL   CREA    GGT  PROT  Category\n",
       "0    32.0    0  38.5    7.7   22.1  3.23  106.0   12.1  69.0       0.0\n",
       "1    32.0    0  38.5   18.0   24.7  4.80   74.0   15.6  76.5       0.0\n",
       "2    32.0    0  46.9   36.2   52.6  5.20   86.0   33.2  79.3       0.0\n",
       "3    32.0    0  43.2   30.6   22.6  4.74   80.0   33.8  75.7       0.0\n",
       "4    32.0    0  39.2   32.6   24.8  4.32   76.0   29.9  68.7       0.0\n",
       "..    ...  ...   ...    ...    ...   ...    ...    ...   ...       ...\n",
       "610  62.0    1  32.0    5.9  110.3  6.30   55.7  650.9  68.5       1.0\n",
       "611  64.0    1  24.0    2.9   44.4  3.02   63.0   35.9  71.3       1.0\n",
       "612  64.0    1  29.0    3.5   99.0  3.63   66.7   64.2  82.0       1.0\n",
       "613  46.0    1  33.0   39.0   62.0  4.20   52.0   50.0  71.0       1.0\n",
       "614  59.0    1  36.0  100.0   80.0  5.30   67.0   34.0  68.0       1.0\n",
       "\n",
       "[615 rows x 10 columns]"
      ]
     },
     "execution_count": 33,
     "metadata": {},
     "output_type": "execute_result"
    }
   ],
   "source": [
    "df"
   ]
  },
  {
   "cell_type": "markdown",
   "metadata": {},
   "source": [
    "Посмотрим как выглядит таблица после кодирования, можем видеть, что теперь все переменные являются числовыми и можно с ними работать."
   ]
  },
  {
   "cell_type": "code",
   "execution_count": 80,
   "metadata": {},
   "outputs": [
    {
     "name": "stdout",
     "output_type": "stream",
     "text": [
      "Optimization terminated successfully.\n",
      "         Current function value: 0.302757\n",
      "         Iterations 8\n",
      "                         Results: Logit\n",
      "=================================================================\n",
      "Model:              Logit            Pseudo R-squared: 0.239     \n",
      "Dependent Variable: y                AIC:              315.9126  \n",
      "Date:               2020-11-23 12:53 BIC:              353.6989  \n",
      "No. Observations:   492              Log-Likelihood:   -148.96   \n",
      "Df Model:           8                LL-Null:          -195.80   \n",
      "Df Residuals:       483              LLR p-value:      8.2841e-17\n",
      "Converged:          1.0000           Scale:            1.0000    \n",
      "No. Iterations:     8.0000                                       \n",
      "--------------------------------------------------------------------\n",
      "       Coef.     Std.Err.       z       P>|z|      [0.025     0.975]\n",
      "--------------------------------------------------------------------\n",
      "x1    -0.0761      0.1593    -0.4779    0.6327    -0.3883     0.2361\n",
      "x2     0.1623      0.1663     0.9761    0.3290    -0.1636     0.4882\n",
      "x3    -0.4483      0.2312    -1.9392    0.0525    -0.9015     0.0048\n",
      "x4    -1.6844      0.2334    -7.2169    0.0000    -2.1418    -1.2269\n",
      "x5     7.0071      0.6382    10.9794    0.0000     5.7563     8.2580\n",
      "x6    -0.4490      0.1805    -2.4876    0.0129    -0.8028    -0.0952\n",
      "x7    -0.0431      0.2424    -0.1776    0.8590    -0.5182     0.4320\n",
      "x8     1.3325      0.3383     3.9393    0.0001     0.6695     1.9954\n",
      "x9     0.2164      0.2058     1.0515    0.2930    -0.1869     0.6197\n",
      "=================================================================\n",
      "\n"
     ]
    }
   ],
   "source": [
    "# Baseline model\n",
    "import statsmodels.api as sm\n",
    "lr = sm.Logit(y_train, X_train).fit()\n",
    "print(lr.summary2())"
   ]
  },
  {
   "cell_type": "code",
   "execution_count": 34,
   "metadata": {},
   "outputs": [],
   "source": [
    "# Splitting the dataset into the Training set and Test set\n",
    "X = df.iloc[:, :-1].values\n",
    "y = df.iloc[:, -1].values\n",
    "from sklearn.model_selection import train_test_split\n",
    "X_train, X_test, y_train, y_test = train_test_split(X, y, test_size=0.2, random_state=13)"
   ]
  },
  {
   "cell_type": "markdown",
   "metadata": {},
   "source": [
    "Разделим наш датасет на обучающую и тестовую выборки в пропорции 20% / 80%."
   ]
  },
  {
   "cell_type": "code",
   "execution_count": 35,
   "metadata": {},
   "outputs": [],
   "source": [
    "# Feature Scaling\n",
    "from sklearn.preprocessing import StandardScaler\n",
    "sc_X = StandardScaler().fit(X_train)\n",
    "X_train = sc_X.transform(X_train)\n",
    "X_test = sc_X.transform(X_test)"
   ]
  },
  {
   "cell_type": "markdown",
   "metadata": {},
   "source": [
    "Проведем шкалирование данных с помощью библиотеки sklearn.preprocessing, также стоит обратить внимание, что наша эндогенная переменная в шкалировании не нуждается, она уже должна быть дискретного типа (0;1)."
   ]
  },
  {
   "cell_type": "code",
   "execution_count": 36,
   "metadata": {},
   "outputs": [
    {
     "name": "stdout",
     "output_type": "stream",
     "text": [
      "Optimization terminated successfully.\n",
      "         Current function value: 0.302757\n",
      "         Iterations 8\n",
      "                         Results: Logit\n",
      "=================================================================\n",
      "Model:              Logit            Pseudo R-squared: 0.239     \n",
      "Dependent Variable: y                AIC:              315.9126  \n",
      "Date:               2020-11-23 14:01 BIC:              353.6989  \n",
      "No. Observations:   492              Log-Likelihood:   -148.96   \n",
      "Df Model:           8                LL-Null:          -195.80   \n",
      "Df Residuals:       483              LLR p-value:      8.2841e-17\n",
      "Converged:          1.0000           Scale:            1.0000    \n",
      "No. Iterations:     8.0000                                       \n",
      "--------------------------------------------------------------------\n",
      "       Coef.     Std.Err.       z       P>|z|      [0.025     0.975]\n",
      "--------------------------------------------------------------------\n",
      "x1    -0.0761      0.1593    -0.4779    0.6327    -0.3883     0.2361\n",
      "x2     0.1623      0.1663     0.9761    0.3290    -0.1636     0.4882\n",
      "x3    -0.4483      0.2312    -1.9392    0.0525    -0.9015     0.0048\n",
      "x4    -1.6844      0.2334    -7.2169    0.0000    -2.1418    -1.2269\n",
      "x5     7.0071      0.6382    10.9794    0.0000     5.7563     8.2580\n",
      "x6    -0.4490      0.1805    -2.4876    0.0129    -0.8028    -0.0952\n",
      "x7    -0.0431      0.2424    -0.1776    0.8590    -0.5182     0.4320\n",
      "x8     1.3325      0.3383     3.9393    0.0001     0.6695     1.9954\n",
      "x9     0.2164      0.2058     1.0515    0.2930    -0.1869     0.6197\n",
      "=================================================================\n",
      "\n"
     ]
    }
   ],
   "source": [
    "# Baseline model\n",
    "import statsmodels.api as sm\n",
    "lr = sm.Logit(y_train, X_train).fit()\n",
    "print(lr.summary2())"
   ]
  },
  {
   "cell_type": "markdown",
   "metadata": {},
   "source": [
    "Построим базовую модель и посмотрим отчет по этой модели. Можем видеть, что 5 переменных значимые, p-value по остальным переменным превышает 1,29% и я не буду использовать для построения классификаторов."
   ]
  },
  {
   "cell_type": "code",
   "execution_count": 37,
   "metadata": {},
   "outputs": [],
   "source": [
    "# p-value < 1,29% Features\n",
    "X_train = X_train[:,[0, 3, 4, 5, 7]]\n",
    "X_test = X_test[:,[0, 3, 4, 5, 7]]"
   ]
  },
  {
   "cell_type": "markdown",
   "metadata": {},
   "source": [
    "Преобразуем тестовую и обучающие выборки, оставив в нех только значимые переменные."
   ]
  },
  {
   "cell_type": "code",
   "execution_count": 82,
   "metadata": {},
   "outputs": [],
   "source": [
    "# Fitting Logistic Regression to the Training set (2 variables)\n",
    "from sklearn.linear_model import LogisticRegression\n",
    "lr = LogisticRegression(random_state = 13).fit(X_train, y_train)"
   ]
  },
  {
   "cell_type": "markdown",
   "metadata": {},
   "source": [
    "Обучим модель логистической регрессии."
   ]
  },
  {
   "cell_type": "code",
   "execution_count": 83,
   "metadata": {},
   "outputs": [
    {
     "data": {
      "text/plain": [
       "0.9349593495934959"
      ]
     },
     "execution_count": 83,
     "metadata": {},
     "output_type": "execute_result"
    }
   ],
   "source": [
    "# Predicting the Test set results\n",
    "y_pred = lr.predict(X_test)\n",
    "lr.score(X_test,y_test)"
   ]
  },
  {
   "cell_type": "markdown",
   "metadata": {},
   "source": [
    "Оцениваем качество модели, видим что уровень качества очень высокий, то есть больше 93% объектов распознаны верно."
   ]
  },
  {
   "cell_type": "code",
   "execution_count": 84,
   "metadata": {},
   "outputs": [
    {
     "name": "stdout",
     "output_type": "stream",
     "text": [
      "[[107   1]\n",
      " [  7   8]]\n"
     ]
    }
   ],
   "source": [
    "# Making the Confusion Matrix\n",
    "from sklearn.metrics import confusion_matrix\n",
    "cm = confusion_matrix(y_test, y_pred)\n",
    "print(cm)"
   ]
  },
  {
   "cell_type": "markdown",
   "metadata": {},
   "source": [
    "Строим таблицу сопряженности, видим, что 7 положительных случая ложно определены как отрицательный, в тоже время 1 негативный исход, определен моделью, как позитивный."
   ]
  },
  {
   "cell_type": "code",
   "execution_count": 39,
   "metadata": {},
   "outputs": [],
   "source": [
    "import pickle\n",
    "obj = {'X_train': X_train, 'X_test': X_test,'y_train': y_train,'y_test': y_test}\n",
    "output = open('data.pkl', 'wb')\n",
    "pickle.dump(obj, output, 2)\n",
    "output.close()"
   ]
  },
  {
   "cell_type": "markdown",
   "metadata": {},
   "source": [
    "Запишем и поместим в файл data.pkl наши тестовую и обучающую выборки, для дальнейщего использования при построении остальных моделей."
   ]
  },
  {
   "cell_type": "code",
   "execution_count": 86,
   "metadata": {},
   "outputs": [],
   "source": [
    "import pickle\n",
    "input = open('data.pkl', 'rb')\n",
    "obj = pickle.load(input)\n",
    "input.close()\n",
    "X_train = obj[\"X_train\"]\n",
    "X_test = obj[\"X_test\"]\n",
    "y_train = obj[\"y_train\"]\n",
    "y_test = obj[\"y_test\"]"
   ]
  },
  {
   "cell_type": "markdown",
   "metadata": {},
   "source": [
    "Импортируем наши данные."
   ]
  },
  {
   "cell_type": "code",
   "execution_count": 44,
   "metadata": {},
   "outputs": [],
   "source": [
    "# Importing the Keras libraries and packages\n",
    "import keras\n",
    "from keras.models import Sequential\n",
    "from keras.layers import Dense"
   ]
  },
  {
   "cell_type": "markdown",
   "metadata": {},
   "source": [
    "Импортируем необходимые библиотеки и что важно обновляем их через командую строку."
   ]
  },
  {
   "cell_type": "code",
   "execution_count": 45,
   "metadata": {},
   "outputs": [],
   "source": [
    "# Initialising the ANN\n",
    "cnn = Sequential()\n",
    "\n",
    "# Adding the input layer and the first hidden layer\n",
    "cnn.add(Dense(units = 10,  activation = 'relu', input_dim = 5))\n",
    "\n",
    "# Adding the output layer\n",
    "cnn.add(Dense(units = 1, activation = 'sigmoid'))\n",
    "\n",
    "# Compiling the ANN\n",
    "cnn.compile(optimizer = 'adam', loss = 'binary_crossentropy', metrics = ['accuracy'])"
   ]
  },
  {
   "cell_type": "markdown",
   "metadata": {},
   "source": [
    "Построим нейронную сеть прямой передачи сигнала. Так как параметров для классификации было выбрано 5, соответственно на входном слое находится 5 нейронов. На втором слое выберем 1 нейрон."
   ]
  },
  {
   "cell_type": "code",
   "execution_count": 46,
   "metadata": {},
   "outputs": [
    {
     "name": "stdout",
     "output_type": "stream",
     "text": [
      "Epoch 1/100\n",
      "50/50 [==============================] - 0s 3ms/step - loss: 0.6769 - accuracy: 0.7886 - val_loss: 0.5750 - val_accuracy: 0.8699\n",
      "Epoch 2/100\n",
      "50/50 [==============================] - 0s 1ms/step - loss: 0.5944 - accuracy: 0.8638 - val_loss: 0.5195 - val_accuracy: 0.8780\n",
      "Epoch 3/100\n",
      "50/50 [==============================] - 0s 855us/step - loss: 0.5275 - accuracy: 0.8638 - val_loss: 0.4723 - val_accuracy: 0.8780\n",
      "Epoch 4/100\n",
      "50/50 [==============================] - 0s 1ms/step - loss: 0.4725 - accuracy: 0.8638 - val_loss: 0.4333 - val_accuracy: 0.8780\n",
      "Epoch 5/100\n",
      "50/50 [==============================] - 0s 881us/step - loss: 0.4281 - accuracy: 0.8638 - val_loss: 0.4008 - val_accuracy: 0.8780\n",
      "Epoch 6/100\n",
      "50/50 [==============================] - 0s 1ms/step - loss: 0.3890 - accuracy: 0.8659 - val_loss: 0.3741 - val_accuracy: 0.8862\n",
      "Epoch 7/100\n",
      "50/50 [==============================] - 0s 1ms/step - loss: 0.3581 - accuracy: 0.8760 - val_loss: 0.3524 - val_accuracy: 0.8943\n",
      "Epoch 8/100\n",
      "50/50 [==============================] - 0s 1ms/step - loss: 0.3314 - accuracy: 0.8821 - val_loss: 0.3327 - val_accuracy: 0.8943\n",
      "Epoch 9/100\n",
      "50/50 [==============================] - 0s 1ms/step - loss: 0.3090 - accuracy: 0.8902 - val_loss: 0.3154 - val_accuracy: 0.8943\n",
      "Epoch 10/100\n",
      "50/50 [==============================] - 0s 1ms/step - loss: 0.2898 - accuracy: 0.8984 - val_loss: 0.3004 - val_accuracy: 0.9024\n",
      "Epoch 11/100\n",
      "50/50 [==============================] - 0s 1ms/step - loss: 0.2731 - accuracy: 0.9045 - val_loss: 0.2868 - val_accuracy: 0.9106\n",
      "Epoch 12/100\n",
      "50/50 [==============================] - 0s 918us/step - loss: 0.2580 - accuracy: 0.9085 - val_loss: 0.2747 - val_accuracy: 0.9106\n",
      "Epoch 13/100\n",
      "50/50 [==============================] - 0s 906us/step - loss: 0.2456 - accuracy: 0.9106 - val_loss: 0.2642 - val_accuracy: 0.9187\n",
      "Epoch 14/100\n",
      "50/50 [==============================] - 0s 937us/step - loss: 0.2341 - accuracy: 0.9187 - val_loss: 0.2544 - val_accuracy: 0.9187\n",
      "Epoch 15/100\n",
      "50/50 [==============================] - 0s 909us/step - loss: 0.2244 - accuracy: 0.9289 - val_loss: 0.2458 - val_accuracy: 0.9268\n",
      "Epoch 16/100\n",
      "50/50 [==============================] - 0s 905us/step - loss: 0.2154 - accuracy: 0.9309 - val_loss: 0.2378 - val_accuracy: 0.9268\n",
      "Epoch 17/100\n",
      "50/50 [==============================] - 0s 921us/step - loss: 0.2073 - accuracy: 0.9390 - val_loss: 0.2304 - val_accuracy: 0.9268\n",
      "Epoch 18/100\n",
      "50/50 [==============================] - 0s 1ms/step - loss: 0.1998 - accuracy: 0.9411 - val_loss: 0.2231 - val_accuracy: 0.9268\n",
      "Epoch 19/100\n",
      "50/50 [==============================] - 0s 1ms/step - loss: 0.1930 - accuracy: 0.9431 - val_loss: 0.2170 - val_accuracy: 0.9350\n",
      "Epoch 20/100\n",
      "50/50 [==============================] - 0s 1ms/step - loss: 0.1869 - accuracy: 0.9472 - val_loss: 0.2114 - val_accuracy: 0.9350\n",
      "Epoch 21/100\n",
      "50/50 [==============================] - 0s 905us/step - loss: 0.1812 - accuracy: 0.9492 - val_loss: 0.2058 - val_accuracy: 0.9431\n",
      "Epoch 22/100\n",
      "50/50 [==============================] - 0s 918us/step - loss: 0.1757 - accuracy: 0.9472 - val_loss: 0.2005 - val_accuracy: 0.9431\n",
      "Epoch 23/100\n",
      "50/50 [==============================] - 0s 876us/step - loss: 0.1710 - accuracy: 0.9472 - val_loss: 0.1960 - val_accuracy: 0.9431\n",
      "Epoch 24/100\n",
      "50/50 [==============================] - 0s 1ms/step - loss: 0.1671 - accuracy: 0.9492 - val_loss: 0.1916 - val_accuracy: 0.9431\n",
      "Epoch 25/100\n",
      "50/50 [==============================] - 0s 1ms/step - loss: 0.1630 - accuracy: 0.9492 - val_loss: 0.1882 - val_accuracy: 0.9512\n",
      "Epoch 26/100\n",
      "50/50 [==============================] - 0s 1ms/step - loss: 0.1593 - accuracy: 0.9533 - val_loss: 0.1846 - val_accuracy: 0.9512\n",
      "Epoch 27/100\n",
      "50/50 [==============================] - 0s 1ms/step - loss: 0.1558 - accuracy: 0.9512 - val_loss: 0.1811 - val_accuracy: 0.9512\n",
      "Epoch 28/100\n",
      "50/50 [==============================] - 0s 1ms/step - loss: 0.1529 - accuracy: 0.9512 - val_loss: 0.1784 - val_accuracy: 0.9512\n",
      "Epoch 29/100\n",
      "50/50 [==============================] - 0s 1ms/step - loss: 0.1503 - accuracy: 0.9512 - val_loss: 0.1752 - val_accuracy: 0.9512\n",
      "Epoch 30/100\n",
      "50/50 [==============================] - 0s 1ms/step - loss: 0.1479 - accuracy: 0.9512 - val_loss: 0.1727 - val_accuracy: 0.9512\n",
      "Epoch 31/100\n",
      "50/50 [==============================] - 0s 1ms/step - loss: 0.1455 - accuracy: 0.9533 - val_loss: 0.1703 - val_accuracy: 0.9512\n",
      "Epoch 32/100\n",
      "50/50 [==============================] - 0s 1ms/step - loss: 0.1433 - accuracy: 0.9533 - val_loss: 0.1676 - val_accuracy: 0.9512\n",
      "Epoch 33/100\n",
      "50/50 [==============================] - 0s 1ms/step - loss: 0.1411 - accuracy: 0.9533 - val_loss: 0.1654 - val_accuracy: 0.9512\n",
      "Epoch 34/100\n",
      "50/50 [==============================] - 0s 1ms/step - loss: 0.1389 - accuracy: 0.9533 - val_loss: 0.1629 - val_accuracy: 0.9512\n",
      "Epoch 35/100\n",
      "50/50 [==============================] - 0s 1ms/step - loss: 0.1372 - accuracy: 0.9533 - val_loss: 0.1609 - val_accuracy: 0.9593\n",
      "Epoch 36/100\n",
      "50/50 [==============================] - 0s 1ms/step - loss: 0.1356 - accuracy: 0.9533 - val_loss: 0.1590 - val_accuracy: 0.9593\n",
      "Epoch 37/100\n",
      "50/50 [==============================] - 0s 900us/step - loss: 0.1337 - accuracy: 0.9553 - val_loss: 0.1573 - val_accuracy: 0.9512\n",
      "Epoch 38/100\n",
      "50/50 [==============================] - 0s 854us/step - loss: 0.1323 - accuracy: 0.9553 - val_loss: 0.1559 - val_accuracy: 0.9512\n",
      "Epoch 39/100\n",
      "50/50 [==============================] - 0s 818us/step - loss: 0.1307 - accuracy: 0.9573 - val_loss: 0.1541 - val_accuracy: 0.9593\n",
      "Epoch 40/100\n",
      "50/50 [==============================] - 0s 780us/step - loss: 0.1292 - accuracy: 0.9593 - val_loss: 0.1524 - val_accuracy: 0.9675\n",
      "Epoch 41/100\n",
      "50/50 [==============================] - 0s 830us/step - loss: 0.1275 - accuracy: 0.9593 - val_loss: 0.1515 - val_accuracy: 0.9593\n",
      "Epoch 42/100\n",
      "50/50 [==============================] - 0s 794us/step - loss: 0.1264 - accuracy: 0.9593 - val_loss: 0.1504 - val_accuracy: 0.9512\n",
      "Epoch 43/100\n",
      "50/50 [==============================] - 0s 833us/step - loss: 0.1249 - accuracy: 0.9614 - val_loss: 0.1494 - val_accuracy: 0.9593\n",
      "Epoch 44/100\n",
      "50/50 [==============================] - 0s 789us/step - loss: 0.1236 - accuracy: 0.9614 - val_loss: 0.1480 - val_accuracy: 0.9593\n",
      "Epoch 45/100\n",
      "50/50 [==============================] - 0s 849us/step - loss: 0.1226 - accuracy: 0.9634 - val_loss: 0.1474 - val_accuracy: 0.9593\n",
      "Epoch 46/100\n",
      "50/50 [==============================] - 0s 818us/step - loss: 0.1215 - accuracy: 0.9654 - val_loss: 0.1456 - val_accuracy: 0.9593\n",
      "Epoch 47/100\n",
      "50/50 [==============================] - 0s 809us/step - loss: 0.1204 - accuracy: 0.9654 - val_loss: 0.1446 - val_accuracy: 0.9593\n",
      "Epoch 48/100\n",
      "50/50 [==============================] - 0s 836us/step - loss: 0.1191 - accuracy: 0.9654 - val_loss: 0.1434 - val_accuracy: 0.9593\n",
      "Epoch 49/100\n",
      "50/50 [==============================] - 0s 884us/step - loss: 0.1180 - accuracy: 0.9654 - val_loss: 0.1423 - val_accuracy: 0.9593\n",
      "Epoch 50/100\n",
      "50/50 [==============================] - 0s 992us/step - loss: 0.1169 - accuracy: 0.9654 - val_loss: 0.1409 - val_accuracy: 0.9593\n",
      "Epoch 51/100\n",
      "50/50 [==============================] - 0s 1ms/step - loss: 0.1161 - accuracy: 0.9634 - val_loss: 0.1401 - val_accuracy: 0.9593\n",
      "Epoch 52/100\n",
      "50/50 [==============================] - 0s 1ms/step - loss: 0.1153 - accuracy: 0.9634 - val_loss: 0.1391 - val_accuracy: 0.9593\n",
      "Epoch 53/100\n",
      "50/50 [==============================] - 0s 1ms/step - loss: 0.1147 - accuracy: 0.9634 - val_loss: 0.1374 - val_accuracy: 0.9593\n",
      "Epoch 54/100\n",
      "50/50 [==============================] - 0s 1ms/step - loss: 0.1137 - accuracy: 0.9634 - val_loss: 0.1364 - val_accuracy: 0.9593\n",
      "Epoch 55/100\n",
      "50/50 [==============================] - 0s 1ms/step - loss: 0.1128 - accuracy: 0.9634 - val_loss: 0.1355 - val_accuracy: 0.9593\n",
      "Epoch 56/100\n",
      "50/50 [==============================] - 0s 962us/step - loss: 0.1121 - accuracy: 0.9634 - val_loss: 0.1345 - val_accuracy: 0.9593\n",
      "Epoch 57/100\n",
      "50/50 [==============================] - 0s 1ms/step - loss: 0.1115 - accuracy: 0.9634 - val_loss: 0.1339 - val_accuracy: 0.9593\n",
      "Epoch 58/100\n"
     ]
    },
    {
     "name": "stdout",
     "output_type": "stream",
     "text": [
      "50/50 [==============================] - 0s 1ms/step - loss: 0.1109 - accuracy: 0.9654 - val_loss: 0.1329 - val_accuracy: 0.9593\n",
      "Epoch 59/100\n",
      "50/50 [==============================] - 0s 1ms/step - loss: 0.1100 - accuracy: 0.9654 - val_loss: 0.1322 - val_accuracy: 0.9593\n",
      "Epoch 60/100\n",
      "50/50 [==============================] - 0s 1ms/step - loss: 0.1095 - accuracy: 0.9675 - val_loss: 0.1316 - val_accuracy: 0.9593\n",
      "Epoch 61/100\n",
      "50/50 [==============================] - 0s 1ms/step - loss: 0.1087 - accuracy: 0.9675 - val_loss: 0.1313 - val_accuracy: 0.9593\n",
      "Epoch 62/100\n",
      "50/50 [==============================] - 0s 1ms/step - loss: 0.1083 - accuracy: 0.9675 - val_loss: 0.1310 - val_accuracy: 0.9593\n",
      "Epoch 63/100\n",
      "50/50 [==============================] - 0s 1ms/step - loss: 0.1079 - accuracy: 0.9675 - val_loss: 0.1303 - val_accuracy: 0.9593\n",
      "Epoch 64/100\n",
      "50/50 [==============================] - 0s 932us/step - loss: 0.1072 - accuracy: 0.9675 - val_loss: 0.1292 - val_accuracy: 0.9593\n",
      "Epoch 65/100\n",
      "50/50 [==============================] - 0s 897us/step - loss: 0.1068 - accuracy: 0.9675 - val_loss: 0.1286 - val_accuracy: 0.9593\n",
      "Epoch 66/100\n",
      "50/50 [==============================] - 0s 854us/step - loss: 0.1063 - accuracy: 0.9675 - val_loss: 0.1283 - val_accuracy: 0.9593\n",
      "Epoch 67/100\n",
      "50/50 [==============================] - 0s 797us/step - loss: 0.1058 - accuracy: 0.9675 - val_loss: 0.1271 - val_accuracy: 0.9593\n",
      "Epoch 68/100\n",
      "50/50 [==============================] - 0s 848us/step - loss: 0.1051 - accuracy: 0.9675 - val_loss: 0.1264 - val_accuracy: 0.9593\n",
      "Epoch 69/100\n",
      "50/50 [==============================] - 0s 908us/step - loss: 0.1049 - accuracy: 0.9675 - val_loss: 0.1268 - val_accuracy: 0.9593\n",
      "Epoch 70/100\n",
      "50/50 [==============================] - 0s 781us/step - loss: 0.1043 - accuracy: 0.9675 - val_loss: 0.1255 - val_accuracy: 0.9593\n",
      "Epoch 71/100\n",
      "50/50 [==============================] - 0s 869us/step - loss: 0.1036 - accuracy: 0.9675 - val_loss: 0.1251 - val_accuracy: 0.9593\n",
      "Epoch 72/100\n",
      "50/50 [==============================] - 0s 905us/step - loss: 0.1032 - accuracy: 0.9675 - val_loss: 0.1249 - val_accuracy: 0.9593\n",
      "Epoch 73/100\n",
      "50/50 [==============================] - 0s 808us/step - loss: 0.1029 - accuracy: 0.9675 - val_loss: 0.1245 - val_accuracy: 0.9593\n",
      "Epoch 74/100\n",
      "50/50 [==============================] - 0s 804us/step - loss: 0.1028 - accuracy: 0.9654 - val_loss: 0.1229 - val_accuracy: 0.9675\n",
      "Epoch 75/100\n",
      "50/50 [==============================] - 0s 856us/step - loss: 0.1022 - accuracy: 0.9654 - val_loss: 0.1227 - val_accuracy: 0.9675\n",
      "Epoch 76/100\n",
      "50/50 [==============================] - 0s 829us/step - loss: 0.1016 - accuracy: 0.9675 - val_loss: 0.1230 - val_accuracy: 0.9675\n",
      "Epoch 77/100\n",
      "50/50 [==============================] - 0s 794us/step - loss: 0.1011 - accuracy: 0.9654 - val_loss: 0.1223 - val_accuracy: 0.9675\n",
      "Epoch 78/100\n",
      "50/50 [==============================] - 0s 818us/step - loss: 0.1007 - accuracy: 0.9654 - val_loss: 0.1219 - val_accuracy: 0.9675\n",
      "Epoch 79/100\n",
      "50/50 [==============================] - 0s 816us/step - loss: 0.1005 - accuracy: 0.9654 - val_loss: 0.1213 - val_accuracy: 0.9675\n",
      "Epoch 80/100\n",
      "50/50 [==============================] - 0s 835us/step - loss: 0.1002 - accuracy: 0.9654 - val_loss: 0.1213 - val_accuracy: 0.9675\n",
      "Epoch 81/100\n",
      "50/50 [==============================] - 0s 800us/step - loss: 0.0996 - accuracy: 0.9654 - val_loss: 0.1199 - val_accuracy: 0.9675\n",
      "Epoch 82/100\n",
      "50/50 [==============================] - 0s 862us/step - loss: 0.0993 - accuracy: 0.9654 - val_loss: 0.1203 - val_accuracy: 0.9675\n",
      "Epoch 83/100\n",
      "50/50 [==============================] - 0s 845us/step - loss: 0.0992 - accuracy: 0.9675 - val_loss: 0.1200 - val_accuracy: 0.9675\n",
      "Epoch 84/100\n",
      "50/50 [==============================] - 0s 786us/step - loss: 0.0987 - accuracy: 0.9675 - val_loss: 0.1198 - val_accuracy: 0.9675\n",
      "Epoch 85/100\n",
      "50/50 [==============================] - 0s 871us/step - loss: 0.0982 - accuracy: 0.9654 - val_loss: 0.1201 - val_accuracy: 0.9675\n",
      "Epoch 86/100\n",
      "50/50 [==============================] - 0s 830us/step - loss: 0.0981 - accuracy: 0.9654 - val_loss: 0.1199 - val_accuracy: 0.9675\n",
      "Epoch 87/100\n",
      "50/50 [==============================] - 0s 791us/step - loss: 0.0979 - accuracy: 0.9675 - val_loss: 0.1204 - val_accuracy: 0.9675\n",
      "Epoch 88/100\n",
      "50/50 [==============================] - 0s 860us/step - loss: 0.0975 - accuracy: 0.9654 - val_loss: 0.1205 - val_accuracy: 0.9675\n",
      "Epoch 89/100\n",
      "50/50 [==============================] - 0s 779us/step - loss: 0.0971 - accuracy: 0.9654 - val_loss: 0.1198 - val_accuracy: 0.9675\n",
      "Epoch 90/100\n",
      "50/50 [==============================] - 0s 843us/step - loss: 0.0969 - accuracy: 0.9654 - val_loss: 0.1195 - val_accuracy: 0.9675\n",
      "Epoch 91/100\n",
      "50/50 [==============================] - 0s 828us/step - loss: 0.0965 - accuracy: 0.9654 - val_loss: 0.1194 - val_accuracy: 0.9675\n",
      "Epoch 92/100\n",
      "50/50 [==============================] - 0s 794us/step - loss: 0.0963 - accuracy: 0.9654 - val_loss: 0.1189 - val_accuracy: 0.9675\n",
      "Epoch 93/100\n",
      "50/50 [==============================] - 0s 858us/step - loss: 0.0962 - accuracy: 0.9654 - val_loss: 0.1192 - val_accuracy: 0.9675\n",
      "Epoch 94/100\n",
      "50/50 [==============================] - 0s 813us/step - loss: 0.0959 - accuracy: 0.9654 - val_loss: 0.1184 - val_accuracy: 0.9675\n",
      "Epoch 95/100\n",
      "50/50 [==============================] - 0s 802us/step - loss: 0.0954 - accuracy: 0.9654 - val_loss: 0.1187 - val_accuracy: 0.9675\n",
      "Epoch 96/100\n",
      "50/50 [==============================] - 0s 917us/step - loss: 0.0951 - accuracy: 0.9654 - val_loss: 0.1185 - val_accuracy: 0.9675\n",
      "Epoch 97/100\n",
      "50/50 [==============================] - 0s 827us/step - loss: 0.0947 - accuracy: 0.9654 - val_loss: 0.1170 - val_accuracy: 0.9675\n",
      "Epoch 98/100\n",
      "50/50 [==============================] - 0s 852us/step - loss: 0.0946 - accuracy: 0.9654 - val_loss: 0.1171 - val_accuracy: 0.9675\n",
      "Epoch 99/100\n",
      "50/50 [==============================] - 0s 923us/step - loss: 0.0942 - accuracy: 0.9654 - val_loss: 0.1174 - val_accuracy: 0.9675\n",
      "Epoch 100/100\n",
      "50/50 [==============================] - 0s 820us/step - loss: 0.0943 - accuracy: 0.9654 - val_loss: 0.1164 - val_accuracy: 0.9675\n"
     ]
    }
   ],
   "source": [
    "# Fitting the ANN to the Training set\n",
    "history = cnn.fit(X_train, y_train, batch_size = 10, epochs = 100, validation_data=(X_test, y_test))"
   ]
  },
  {
   "cell_type": "code",
   "execution_count": 47,
   "metadata": {},
   "outputs": [
    {
     "data": {
      "image/png": "[encoded data removed]",
      "text/plain": [
       "<Figure size 432x288 with 1 Axes>"
      ]
     },
     "metadata": {
      "needs_background": "light"
     },
     "output_type": "display_data"
    }
   ],
   "source": [
    "# Plotting loss & accuracy\n",
    "plt.figure()\n",
    "plt.plot(history.history['loss'])\n",
    "plt.plot(history.history['val_loss'])\n",
    "plt.title('model loss')\n",
    "plt.ylabel('loss')\n",
    "plt.xlabel('epoch')\n",
    "plt.legend(['train', 'test'], loc='best')\n",
    "plt.show()"
   ]
  },
  {
   "cell_type": "code",
   "execution_count": 48,
   "metadata": {},
   "outputs": [],
   "source": [
    "# Predicting the Test set results\n",
    "y_pred = cnn.predict(X_test)\n",
    "y_pred = (y_pred > 0.5)"
   ]
  },
  {
   "cell_type": "markdown",
   "metadata": {},
   "source": [
    "Сделаем прогнозирование, порог оставил прежний."
   ]
  },
  {
   "cell_type": "code",
   "execution_count": 49,
   "metadata": {},
   "outputs": [
    {
     "name": "stdout",
     "output_type": "stream",
     "text": [
      "[[108   0]\n",
      " [  4  11]]\n"
     ]
    }
   ],
   "source": [
    "# Making the Confusion Matrix\n",
    "from sklearn.metrics import confusion_matrix\n",
    "cm = confusion_matrix(y_test, y_pred)\n",
    "print(cm)"
   ]
  },
  {
   "cell_type": "markdown",
   "metadata": {},
   "source": [
    "Построив таблицу сопряженности, видим, что она стала лучше (было 8 неверно распознанных объектов, стало 4). При этом я увеличил количество нейронов на 1ом слое до 10."
   ]
  }
 ],
 "metadata": {
  "kernelspec": {
   "display_name": "Python 3",
   "language": "python",
   "name": "python3"
  },
  "language_info": {
   "codemirror_mode": {
    "name": "ipython",
    "version": 3
   },
   "file_extension": ".py",
   "mimetype": "text/x-python",
   "name": "python",
   "nbconvert_exporter": "python",
   "pygments_lexer": "ipython3",
   "version": "3.8.3"
  }
 },
 "nbformat": 4,
 "nbformat_minor": 4
}
